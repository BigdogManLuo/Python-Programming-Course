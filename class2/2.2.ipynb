{
 "cells": [
  {
   "cell_type": "markdown",
   "id": "1bf169b2",
   "metadata": {},
   "source": [
    "# 1. 函数"
   ]
  },
  {
   "cell_type": "markdown",
   "id": "6be57aeb",
   "metadata": {},
   "source": [
    "**如果我们需要画两个火箭呢？**"
   ]
  },
  {
   "cell_type": "code",
   "execution_count": null,
   "id": "357a1732",
   "metadata": {},
   "outputs": [],
   "source": [
    "#画两遍火箭"
   ]
  },
  {
   "cell_type": "code",
   "execution_count": 2,
   "id": "39d81ce8",
   "metadata": {},
   "outputs": [],
   "source": [
    "#设计一个语句块——函数\n"
   ]
  },
  {
   "cell_type": "markdown",
   "id": "5ceb095b",
   "metadata": {},
   "source": [
    "**使用函数的两个步骤**\n",
    "- 定义函数\n",
    "- 调用函数"
   ]
  },
  {
   "cell_type": "markdown",
   "id": "553783fa",
   "metadata": {},
   "source": [
    "定义函数\n",
    "- 注意：在函数的定义部分需要有缩进"
   ]
  },
  {
   "cell_type": "code",
   "execution_count": 3,
   "id": "76c8b312",
   "metadata": {},
   "outputs": [],
   "source": [
    "\n",
    "    "
   ]
  },
  {
   "cell_type": "markdown",
   "id": "bee697a5",
   "metadata": {},
   "source": [
    "**调用函数**"
   ]
  },
  {
   "cell_type": "code",
   "execution_count": 5,
   "id": "e529c525",
   "metadata": {},
   "outputs": [
    {
     "name": "stdout",
     "output_type": "stream",
     "text": [
      "....\n",
      "....\n"
     ]
    }
   ],
   "source": []
  },
  {
   "cell_type": "markdown",
   "id": "aa889297",
   "metadata": {},
   "source": [
    "**函数名命名规范**\n",
    "- 标识符：必须由字母、数字、下划线组成，必须字母开头，且不能为关键字\n",
    "- 关键字：and def or for break not True False...等等"
   ]
  },
  {
   "cell_type": "markdown",
   "id": "b456e66d",
   "metadata": {},
   "source": [
    "**小练习：把火箭倒过来画？**"
   ]
  },
  {
   "cell_type": "code",
   "execution_count": null,
   "id": "908acac8",
   "metadata": {},
   "outputs": [],
   "source": []
  },
  {
   "cell_type": "markdown",
   "id": "9228990f",
   "metadata": {},
   "source": [
    "## 2. 数据"
   ]
  },
  {
   "cell_type": "markdown",
   "id": "1a5c3264",
   "metadata": {},
   "source": [
    "**基本的数据类型**\n",
    "\n",
    "|类型|描述|示例|\n",
    "|---|---|---|\n",
    "|int|整数|42,3,0|\n",
    "|float|实数|7.35,3.14159|\n",
    "|str|字符串|\"hello!\"|\n",
    "|bool|逻辑值|True,Flase|"
   ]
  },
  {
   "cell_type": "markdown",
   "id": "48f2515e",
   "metadata": {},
   "source": [
    "**创建变量并赋值**"
   ]
  },
  {
   "cell_type": "code",
   "execution_count": 4,
   "id": "f94a337d",
   "metadata": {},
   "outputs": [
    {
     "name": "stdout",
     "output_type": "stream",
     "text": [
      "<class 'int'>\n"
     ]
    }
   ],
   "source": []
  },
  {
   "cell_type": "code",
   "execution_count": 5,
   "id": "9b85acb1",
   "metadata": {},
   "outputs": [
    {
     "name": "stdout",
     "output_type": "stream",
     "text": [
      "<class 'float'>\n"
     ]
    }
   ],
   "source": []
  },
  {
   "cell_type": "code",
   "execution_count": 6,
   "id": "7e87c0f5",
   "metadata": {},
   "outputs": [
    {
     "name": "stdout",
     "output_type": "stream",
     "text": [
      "<class 'str'>\n"
     ]
    }
   ],
   "source": []
  },
  {
   "cell_type": "markdown",
   "id": "f4f075e3",
   "metadata": {},
   "source": [
    "**数据运算**"
   ]
  },
  {
   "cell_type": "code",
   "execution_count": 7,
   "id": "55a22788",
   "metadata": {},
   "outputs": [
    {
     "name": "stdout",
     "output_type": "stream",
     "text": [
      "3\n"
     ]
    }
   ],
   "source": []
  },
  {
   "cell_type": "code",
   "execution_count": 8,
   "id": "2e4c2f94",
   "metadata": {},
   "outputs": [
    {
     "name": "stdout",
     "output_type": "stream",
     "text": [
      "-1\n"
     ]
    }
   ],
   "source": []
  },
  {
   "cell_type": "code",
   "execution_count": 9,
   "id": "c98ced8a",
   "metadata": {},
   "outputs": [
    {
     "name": "stdout",
     "output_type": "stream",
     "text": [
      "2\n"
     ]
    }
   ],
   "source": []
  },
  {
   "cell_type": "code",
   "execution_count": 11,
   "id": "3ad614ea",
   "metadata": {},
   "outputs": [
    {
     "name": "stdout",
     "output_type": "stream",
     "text": [
      "0.5\n"
     ]
    }
   ],
   "source": []
  },
  {
   "cell_type": "code",
   "execution_count": 13,
   "id": "2e90b50a",
   "metadata": {},
   "outputs": [
    {
     "name": "stdout",
     "output_type": "stream",
     "text": [
      "1\n"
     ]
    }
   ],
   "source": []
  },
  {
   "cell_type": "code",
   "execution_count": 14,
   "id": "f1d852c2",
   "metadata": {},
   "outputs": [
    {
     "name": "stdout",
     "output_type": "stream",
     "text": [
      "25\n"
     ]
    }
   ],
   "source": []
  },
  {
   "cell_type": "markdown",
   "id": "eb5a5b51",
   "metadata": {},
   "source": [
    "如果除以0会发生什么？"
   ]
  },
  {
   "cell_type": "code",
   "execution_count": 16,
   "id": "0fe7944b",
   "metadata": {},
   "outputs": [
    {
     "ename": "ZeroDivisionError",
     "evalue": "division by zero",
     "output_type": "error",
     "traceback": [
      "\u001b[1;31m---------------------------------------------------------------------------\u001b[0m",
      "\u001b[1;31mZeroDivisionError\u001b[0m                         Traceback (most recent call last)",
      "\u001b[1;32m~\\AppData\\Local\\Temp\\ipykernel_24164\\3368108295.py\u001b[0m in \u001b[0;36m<module>\u001b[1;34m\u001b[0m\n\u001b[0;32m      1\u001b[0m \u001b[0ma\u001b[0m\u001b[1;33m=\u001b[0m\u001b[1;36m2\u001b[0m\u001b[1;33m\u001b[0m\u001b[1;33m\u001b[0m\u001b[0m\n\u001b[0;32m      2\u001b[0m \u001b[0mb\u001b[0m\u001b[1;33m=\u001b[0m\u001b[1;36m0\u001b[0m\u001b[1;33m\u001b[0m\u001b[1;33m\u001b[0m\u001b[0m\n\u001b[1;32m----> 3\u001b[1;33m \u001b[0mc\u001b[0m\u001b[1;33m=\u001b[0m\u001b[0ma\u001b[0m\u001b[1;33m/\u001b[0m\u001b[0mb\u001b[0m\u001b[1;33m\u001b[0m\u001b[1;33m\u001b[0m\u001b[0m\n\u001b[0m\u001b[0;32m      4\u001b[0m \u001b[0mprint\u001b[0m\u001b[1;33m(\u001b[0m\u001b[0mc\u001b[0m\u001b[1;33m)\u001b[0m\u001b[1;33m\u001b[0m\u001b[1;33m\u001b[0m\u001b[0m\n",
      "\u001b[1;31mZeroDivisionError\u001b[0m: division by zero"
     ]
    }
   ],
   "source": []
  },
  {
   "cell_type": "markdown",
   "id": "1eb278ee",
   "metadata": {},
   "source": [
    "**数据类型转换**"
   ]
  },
  {
   "cell_type": "code",
   "execution_count": 20,
   "id": "785c2527",
   "metadata": {},
   "outputs": [
    {
     "name": "stdout",
     "output_type": "stream",
     "text": [
      "a的数据类型为: <class 'float'>\n",
      "b的数据类型为: <class 'int'>\n",
      "b= 4\n"
     ]
    }
   ],
   "source": []
  },
  {
   "cell_type": "code",
   "execution_count": 21,
   "id": "29aef796",
   "metadata": {},
   "outputs": [
    {
     "name": "stdout",
     "output_type": "stream",
     "text": [
      "a的数据类型为: <class 'int'>\n",
      "b的数据类型为: <class 'float'>\n",
      "b= 4.0\n"
     ]
    }
   ],
   "source": []
  },
  {
   "cell_type": "code",
   "execution_count": 22,
   "id": "8871d3c5",
   "metadata": {},
   "outputs": [
    {
     "name": "stdout",
     "output_type": "stream",
     "text": [
      "a的数据类型为: <class 'str'>\n",
      "b的数据类型为: <class 'float'>\n",
      "b= 4.0\n"
     ]
    }
   ],
   "source": []
  },
  {
   "cell_type": "markdown",
   "id": "a9321edb",
   "metadata": {},
   "source": [
    "**如何理解变量**"
   ]
  },
  {
   "cell_type": "code",
   "execution_count": 24,
   "id": "127c5c32",
   "metadata": {},
   "outputs": [
    {
     "name": "stdout",
     "output_type": "stream",
     "text": [
      "3\n"
     ]
    }
   ],
   "source": []
  },
  {
   "cell_type": "markdown",
   "id": "c2df17f8",
   "metadata": {},
   "source": [
    "## 3. 输入语句\n",
    "<br>\n",
    "设计一个程序，当用户输入任意数的时候，输出为该数的值+1"
   ]
  },
  {
   "cell_type": "code",
   "execution_count": 28,
   "id": "ec04be57",
   "metadata": {},
   "outputs": [
    {
     "name": "stdout",
     "output_type": "stream",
     "text": [
      "请输入a的值3\n"
     ]
    },
    {
     "ename": "TypeError",
     "evalue": "can only concatenate str (not \"int\") to str",
     "output_type": "error",
     "traceback": [
      "\u001b[1;31m---------------------------------------------------------------------------\u001b[0m",
      "\u001b[1;31mTypeError\u001b[0m                                 Traceback (most recent call last)",
      "\u001b[1;32m~\\AppData\\Local\\Temp\\ipykernel_24164\\1070288312.py\u001b[0m in \u001b[0;36m<module>\u001b[1;34m\u001b[0m\n\u001b[0;32m      1\u001b[0m \u001b[0ma\u001b[0m\u001b[1;33m=\u001b[0m\u001b[0minput\u001b[0m\u001b[1;33m(\u001b[0m\u001b[1;34m\"请输入a的值\"\u001b[0m\u001b[1;33m)\u001b[0m\u001b[1;33m\u001b[0m\u001b[1;33m\u001b[0m\u001b[0m\n\u001b[0;32m      2\u001b[0m \u001b[1;33m\u001b[0m\u001b[0m\n\u001b[1;32m----> 3\u001b[1;33m \u001b[0ma\u001b[0m\u001b[1;33m=\u001b[0m\u001b[0ma\u001b[0m\u001b[1;33m+\u001b[0m\u001b[1;36m1\u001b[0m\u001b[1;33m\u001b[0m\u001b[1;33m\u001b[0m\u001b[0m\n\u001b[0m\u001b[0;32m      4\u001b[0m \u001b[1;33m\u001b[0m\u001b[0m\n\u001b[0;32m      5\u001b[0m \u001b[0mprint\u001b[0m\u001b[1;33m(\u001b[0m\u001b[0ma\u001b[0m\u001b[1;33m)\u001b[0m\u001b[1;33m\u001b[0m\u001b[1;33m\u001b[0m\u001b[0m\n",
      "\u001b[1;31mTypeError\u001b[0m: can only concatenate str (not \"int\") to str"
     ]
    }
   ],
   "source": []
  },
  {
   "cell_type": "markdown",
   "id": "88784c7c",
   "metadata": {},
   "source": [
    "问题出现在哪了？"
   ]
  },
  {
   "cell_type": "code",
   "execution_count": 29,
   "id": "733c1719",
   "metadata": {},
   "outputs": [
    {
     "name": "stdout",
     "output_type": "stream",
     "text": [
      "请输入a的值：3\n",
      "<class 'str'>\n"
     ]
    }
   ],
   "source": []
  },
  {
   "cell_type": "code",
   "execution_count": 30,
   "id": "c3e344ee",
   "metadata": {},
   "outputs": [
    {
     "name": "stdout",
     "output_type": "stream",
     "text": [
      "请输入a的值：3\n",
      "<class 'float'>\n"
     ]
    }
   ],
   "source": []
  },
  {
   "cell_type": "code",
   "execution_count": 31,
   "id": "86ac825b",
   "metadata": {},
   "outputs": [
    {
     "name": "stdout",
     "output_type": "stream",
     "text": [
      "请输入a的值：5\n",
      "6.0\n"
     ]
    }
   ],
   "source": []
  },
  {
   "cell_type": "markdown",
   "id": "1c47a4e1",
   "metadata": {},
   "source": [
    "## 小练习\n",
    "请用户输入直角边和斜边，判断这三个边是否构成直角三角形，例如：<br>\n",
    "请输入第一个直角边：3<br>\n",
    "请输入第二个直角边：4<br>\n",
    "请输入斜边：5<br>\n",
    "输出：True"
   ]
  },
  {
   "cell_type": "code",
   "execution_count": null,
   "id": "17a4280e",
   "metadata": {},
   "outputs": [],
   "source": []
  },
  {
   "cell_type": "markdown",
   "id": "2b4dc217",
   "metadata": {},
   "source": [
    "## 课堂练习"
   ]
  },
  {
   "cell_type": "markdown",
   "id": "86e0b491",
   "metadata": {},
   "source": [
    "**题目：** 温度转换器\n",
    "\n",
    "**任务要求：**\n",
    "\n",
    "编写一个程序，要求用户输入一个摄氏温度，然后将其转换为华氏温度并输出。\n",
    "\n",
    "**提示：**\n",
    "\n",
    "华氏温度 = 摄氏温度 * 1.8 + 32\n"
   ]
  },
  {
   "cell_type": "code",
   "execution_count": null,
   "id": "78402a60",
   "metadata": {},
   "outputs": [],
   "source": []
  },
  {
   "cell_type": "markdown",
   "id": "8ffd7b49",
   "metadata": {},
   "source": [
    "题目：BMI指数计算器\n",
    "\n",
    "任务要求：\n",
    "\n",
    "编写一个程序，要求用户输入他们的身高（单位：米）和体重（单位：千克），然后计算并输出他们的BMI指数。\n",
    "\n",
    "提示：\n",
    "\n",
    "BMI指数计算公式：BMI = 体重（千克）/ 身高的平方（米）\n",
    "\n",
    "输出结果保留一位小数。\n",
    "\n",
    "根据BMI指数，可以大致判断一个人是否健康。例如：\n",
    "\n",
    "BMI指数小于18.5：过轻\n",
    "BMI指数在18.5和25之间：正常\n",
    "BMI指数在25和30之间：过重\n",
    "BMI指数在30及以上：肥胖"
   ]
  },
  {
   "cell_type": "code",
   "execution_count": null,
   "id": "b44214eb",
   "metadata": {},
   "outputs": [],
   "source": []
  }
 ],
 "metadata": {
  "kernelspec": {
   "display_name": "Python 3 (ipykernel)",
   "language": "python",
   "name": "python3"
  },
  "language_info": {
   "codemirror_mode": {
    "name": "ipython",
    "version": 3
   },
   "file_extension": ".py",
   "mimetype": "text/x-python",
   "name": "python",
   "nbconvert_exporter": "python",
   "pygments_lexer": "ipython3",
   "version": "3.9.13"
  }
 },
 "nbformat": 4,
 "nbformat_minor": 5
}
