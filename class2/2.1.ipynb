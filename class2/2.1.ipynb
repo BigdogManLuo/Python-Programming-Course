{
 "cells": [
  {
   "cell_type": "markdown",
   "id": "8e8a2ac8",
   "metadata": {},
   "source": [
    "# 1.打印输出"
   ]
  },
  {
   "cell_type": "markdown",
   "id": "15e56007",
   "metadata": {},
   "source": [
    "**使用print() 语句实现在屏幕上打印你需要的输出内容**"
   ]
  },
  {
   "cell_type": "code",
   "execution_count": 4,
   "id": "0edece8b",
   "metadata": {},
   "outputs": [
    {
     "name": "stdout",
     "output_type": "stream",
     "text": [
      "hello,world!\n"
     ]
    }
   ],
   "source": []
  },
  {
   "cell_type": "markdown",
   "id": "1a3e497c",
   "metadata": {},
   "source": [
    "**多行输出**"
   ]
  },
  {
   "cell_type": "code",
   "execution_count": 8,
   "id": "9980966e",
   "metadata": {},
   "outputs": [
    {
     "name": "stdout",
     "output_type": "stream",
     "text": [
      "Hello\n",
      "Here is a Python Program\n",
      "Python is my favorite programming language!\n",
      "谢谢！\n"
     ]
    }
   ],
   "source": []
  },
  {
   "cell_type": "markdown",
   "id": "22a8fb02",
   "metadata": {},
   "source": [
    "## 2. 字符串"
   ]
  },
  {
   "cell_type": "markdown",
   "id": "1fb71dc7",
   "metadata": {},
   "source": [
    "\"hello,wolrd!\"这样的文本被成为字符串"
   ]
  },
  {
   "cell_type": "markdown",
   "id": "d774342d",
   "metadata": {},
   "source": [
    "**字符串规范**"
   ]
  },
  {
   "cell_type": "code",
   "execution_count": 5,
   "id": "32c695c4",
   "metadata": {},
   "outputs": [
    {
     "ename": "SyntaxError",
     "evalue": "EOL while scanning string literal (3081832087.py, line 2)",
     "output_type": "error",
     "traceback": [
      "\u001b[1;36m  File \u001b[1;32m\"C:\\Users\\85204\\AppData\\Local\\Temp\\ipykernel_4312\\3081832087.py\"\u001b[1;36m, line \u001b[1;32m2\u001b[0m\n\u001b[1;33m    print(\"hello)\u001b[0m\n\u001b[1;37m                 ^\u001b[0m\n\u001b[1;31mSyntaxError\u001b[0m\u001b[1;31m:\u001b[0m EOL while scanning string literal\n"
     ]
    }
   ],
   "source": []
  },
  {
   "cell_type": "code",
   "execution_count": 15,
   "id": "63547d9b",
   "metadata": {},
   "outputs": [
    {
     "ename": "SyntaxError",
     "evalue": "EOL while scanning string literal (171356250.py, line 2)",
     "output_type": "error",
     "traceback": [
      "\u001b[1;36m  File \u001b[1;32m\"C:\\Users\\85204\\AppData\\Local\\Temp\\ipykernel_4312\\171356250.py\"\u001b[1;36m, line \u001b[1;32m2\u001b[0m\n\u001b[1;33m    print(\"hello\u001b[0m\n\u001b[1;37m                ^\u001b[0m\n\u001b[1;31mSyntaxError\u001b[0m\u001b[1;31m:\u001b[0m EOL while scanning string literal\n"
     ]
    }
   ],
   "source": []
  },
  {
   "cell_type": "code",
   "execution_count": 16,
   "id": "7df7c84d",
   "metadata": {},
   "outputs": [
    {
     "name": "stdout",
     "output_type": "stream",
     "text": [
      "\n",
      "hello,\n",
      "world!\n",
      "\n"
     ]
    }
   ],
   "source": []
  },
  {
   "cell_type": "markdown",
   "id": "1749f255",
   "metadata": {},
   "source": [
    "**转义字符：用于表示特殊字符** \n",
    "<br>\n",
    "\\t:制表符\n",
    "<br>\n",
    "\\n：换行符\n",
    "<br>\n",
    "\\\\\"\"双引号\n",
    "<br>\n",
    "\\\\'单引号\n",
    "<br>\n",
    "\\\\\\ 反斜杠"
   ]
  },
  {
   "cell_type": "code",
   "execution_count": 10,
   "id": "8c3b0ec3",
   "metadata": {},
   "outputs": [
    {
     "name": "stdout",
     "output_type": "stream",
     "text": [
      "What \"characters\" does this print?\n"
     ]
    }
   ],
   "source": []
  },
  {
   "cell_type": "code",
   "execution_count": 13,
   "id": "f44ad2f0",
   "metadata": {},
   "outputs": [
    {
     "name": "stdout",
     "output_type": "stream",
     "text": [
      "This \n",
      "is \n",
      "Python\n"
     ]
    }
   ],
   "source": []
  },
  {
   "cell_type": "markdown",
   "id": "d1d41a93",
   "metadata": {},
   "source": [
    "## 3. 打印复杂图形"
   ]
  },
  {
   "cell_type": "code",
   "execution_count": 17,
   "id": "5071d9e7",
   "metadata": {},
   "outputs": [
    {
     "name": "stdout",
     "output_type": "stream",
     "text": [
      "\n",
      "   _           _  _  _  _  _  _  _              _               _  _  _  _             _             _    _  _  _  _    _  _  _  _     _              _  _  _  _      _          \n",
      "   (_)         (_)(_)(_)(_)(_)(_)(_)            (_)            _(_)(_)(_)(_)_          (_)           (_) _(_)(_)(_)(_)_ (_)(_)(_)(_) _ (_)            (_)(_)(_)(_)    (_)         \n",
      "   (_)         (_)(_)            (_)            (_)           (_)          (_)         (_)           (_)(_)          (_)(_)         (_)(_)             (_)      (_)_  (_)         \n",
      "   (_) _  _  _ (_)(_) _  _       (_)            (_)           (_)          (_)         (_)     _     (_)(_)          (_)(_) _  _  _ (_)(_)             (_)        (_) (_)         \n",
      "   (_)(_)(_)(_)(_)(_)(_)(_)      (_)            (_)           (_)          (_)         (_)   _(_)_   (_)(_)          (_)(_)(_)(_)(_)   (_)             (_)        (_) (_)         \n",
      "   (_)         (_)(_)            (_)            (_)           (_)          (_)  _  _   (_)  (_) (_)  (_)(_)          (_)(_)   (_) _    (_)             (_)       _(_)             \n",
      "   (_)         (_)(_) _  _  _  _ (_) _  _  _  _ (_) _  _  _  _(_)_  _  _  _(_) (_)(_)  (_)_(_)   (_)_(_)(_)_  _  _  _(_)(_)      (_) _ (_) _  _  _  _  (_)_  _  (_)    _          \n",
      "   (_)         (_)(_)(_)(_)(_)(_)(_)(_)(_)(_)(_)(_)(_)(_)(_)(_) (_)(_)(_)(_)   (_)(_)    (_)       (_)    (_)(_)(_)(_)  (_)         (_)(_)(_)(_)(_)(_)(_)(_)(_)(_)    (_)         \n",
      "\n"
     ]
    }
   ],
   "source": []
  },
  {
   "cell_type": "markdown",
   "id": "143f1295",
   "metadata": {},
   "source": [
    "**用Python打印一个菱形**"
   ]
  },
  {
   "cell_type": "code",
   "execution_count": 18,
   "id": "9ebfed86",
   "metadata": {},
   "outputs": [
    {
     "name": "stdout",
     "output_type": "stream",
     "text": [
      "   /\\\n",
      "  /  \\\n",
      " /    \\\n",
      " \\    /\n",
      "  \\  /\n",
      "   \\/\n"
     ]
    }
   ],
   "source": [
    "print(\"   /\\\\\")\n",
    "print(\"  /  \\\\\")\n",
    "print(\" /    \\\\\")\n",
    "print(\" \\\\    /\")\n",
    "print(\"  \\\\  /\")\n",
    "print(\"   \\\\/\")"
   ]
  },
  {
   "cell_type": "markdown",
   "id": "dcbb2388",
   "metadata": {},
   "source": [
    "## 4. 注释、空白、可读性\n"
   ]
  },
  {
   "cell_type": "markdown",
   "id": "1c261e04",
   "metadata": {},
   "source": [
    "**一个可读性较差的程序**"
   ]
  },
  {
   "cell_type": "code",
   "execution_count": 24,
   "id": "688e7e9a",
   "metadata": {},
   "outputs": [
    {
     "name": "stdout",
     "output_type": "stream",
     "text": [
      "Look at this beautiful program!\n",
      "I do belive it is\n",
      "The best program in the world\n",
      ".....\n"
     ]
    }
   ],
   "source": []
  },
  {
   "cell_type": "markdown",
   "id": "2d516859",
   "metadata": {},
   "source": [
    "**如何改善程序的可读性**\n",
    "- 将每个语句单独放在一行上\n",
    "- 使用空行分隔不同\n",
    "- 功能的语句\n",
    "- 编写程序注释"
   ]
  },
  {
   "cell_type": "markdown",
   "id": "a6156daa",
   "metadata": {},
   "source": [
    "**程序注释**"
   ]
  },
  {
   "cell_type": "code",
   "execution_count": 29,
   "id": "7dc208ea",
   "metadata": {},
   "outputs": [
    {
     "name": "stdout",
     "output_type": "stream",
     "text": [
      "Welcome to Python\n",
      "...\n",
      "...\n",
      "...\n"
     ]
    }
   ],
   "source": [
    "\n"
   ]
  },
  {
   "cell_type": "code",
   "execution_count": 31,
   "id": "44304daa",
   "metadata": {},
   "outputs": [
    {
     "name": "stdout",
     "output_type": "stream",
     "text": [
      "hello,world\n"
     ]
    }
   ],
   "source": []
  },
  {
   "cell_type": "markdown",
   "id": "944ee8f2",
   "metadata": {},
   "source": [
    "## 5.语法错误\n",
    "尽管人们对口语中的小错误非常宽容，但是Python解释器并不那么宽容。如果我们的程序没有严格地按照语法规则执行，解释器会在将你的程序从Python语言转换到可执行的机器语言的时候报告语法错误。对于一个精密运行的系统而言，一点点微小的错误可能是致命的。"
   ]
  },
  {
   "cell_type": "markdown",
   "id": "9bfad73a",
   "metadata": {},
   "source": [
    "**拼写错误**"
   ]
  },
  {
   "cell_type": "code",
   "execution_count": 33,
   "id": "768946b5",
   "metadata": {},
   "outputs": [
    {
     "ename": "NameError",
     "evalue": "name 'prunt' is not defined",
     "output_type": "error",
     "traceback": [
      "\u001b[1;31m---------------------------------------------------------------------------\u001b[0m",
      "\u001b[1;31mNameError\u001b[0m                                 Traceback (most recent call last)",
      "\u001b[1;32m~\\AppData\\Local\\Temp\\ipykernel_4312\\3556354443.py\u001b[0m in \u001b[0;36m<module>\u001b[1;34m\u001b[0m\n\u001b[1;32m----> 1\u001b[1;33m \u001b[0mprunt\u001b[0m\u001b[1;33m(\u001b[0m\u001b[1;34m\"hello,world!\"\u001b[0m\u001b[1;33m)\u001b[0m\u001b[1;33m\u001b[0m\u001b[1;33m\u001b[0m\u001b[0m\n\u001b[0m",
      "\u001b[1;31mNameError\u001b[0m: name 'prunt' is not defined"
     ]
    }
   ],
   "source": []
  },
  {
   "cell_type": "code",
   "execution_count": 34,
   "id": "55d4c5ae",
   "metadata": {},
   "outputs": [
    {
     "ename": "NameError",
     "evalue": "name 'Print' is not defined",
     "output_type": "error",
     "traceback": [
      "\u001b[1;31m---------------------------------------------------------------------------\u001b[0m",
      "\u001b[1;31mNameError\u001b[0m                                 Traceback (most recent call last)",
      "\u001b[1;32m~\\AppData\\Local\\Temp\\ipykernel_4312\\1254609384.py\u001b[0m in \u001b[0;36m<module>\u001b[1;34m\u001b[0m\n\u001b[1;32m----> 1\u001b[1;33m \u001b[0mPrint\u001b[0m\u001b[1;33m(\u001b[0m\u001b[1;34m\"hello,world!\"\u001b[0m\u001b[1;33m)\u001b[0m\u001b[1;33m\u001b[0m\u001b[1;33m\u001b[0m\u001b[0m\n\u001b[0m",
      "\u001b[1;31mNameError\u001b[0m: name 'Print' is not defined"
     ]
    }
   ],
   "source": []
  },
  {
   "cell_type": "code",
   "execution_count": 35,
   "id": "4b44a2dc",
   "metadata": {},
   "outputs": [
    {
     "ename": "SyntaxError",
     "evalue": "EOL while scanning string literal (1926936859.py, line 1)",
     "output_type": "error",
     "traceback": [
      "\u001b[1;36m  File \u001b[1;32m\"C:\\Users\\85204\\AppData\\Local\\Temp\\ipykernel_4312\\1926936859.py\"\u001b[1;36m, line \u001b[1;32m1\u001b[0m\n\u001b[1;33m    print(\"hello,world)\u001b[0m\n\u001b[1;37m                       ^\u001b[0m\n\u001b[1;31mSyntaxError\u001b[0m\u001b[1;31m:\u001b[0m EOL while scanning string literal\n"
     ]
    }
   ],
   "source": []
  },
  {
   "cell_type": "code",
   "execution_count": 36,
   "id": "3ada2bef",
   "metadata": {},
   "outputs": [
    {
     "ename": "NameError",
     "evalue": "name 'hello' is not defined",
     "output_type": "error",
     "traceback": [
      "\u001b[1;31m---------------------------------------------------------------------------\u001b[0m",
      "\u001b[1;31mNameError\u001b[0m                                 Traceback (most recent call last)",
      "\u001b[1;32m~\\AppData\\Local\\Temp\\ipykernel_4312\\2595165328.py\u001b[0m in \u001b[0;36m<module>\u001b[1;34m\u001b[0m\n\u001b[1;32m----> 1\u001b[1;33m \u001b[0mprint\u001b[0m\u001b[1;33m(\u001b[0m\u001b[0mhello\u001b[0m\u001b[1;33m,\u001b[0m\u001b[0mworld\u001b[0m\u001b[1;33m)\u001b[0m\u001b[1;33m\u001b[0m\u001b[1;33m\u001b[0m\u001b[0m\n\u001b[0m",
      "\u001b[1;31mNameError\u001b[0m: name 'hello' is not defined"
     ]
    }
   ],
   "source": []
  },
  {
   "cell_type": "markdown",
   "id": "8d3a440a",
   "metadata": {},
   "source": [
    "## 课间练习： 用Python 打印一个简单的图形，并在图形中涉及到字符串\n",
    "例如： 打印一个火箭"
   ]
  },
  {
   "cell_type": "code",
   "execution_count": null,
   "id": "2fa93e7a",
   "metadata": {},
   "outputs": [],
   "source": []
  }
 ],
 "metadata": {
  "kernelspec": {
   "display_name": "Python 3 (ipykernel)",
   "language": "python",
   "name": "python3"
  },
  "language_info": {
   "codemirror_mode": {
    "name": "ipython",
    "version": 3
   },
   "file_extension": ".py",
   "mimetype": "text/x-python",
   "name": "python",
   "nbconvert_exporter": "python",
   "pygments_lexer": "ipython3",
   "version": "3.9.13"
  }
 },
 "nbformat": 4,
 "nbformat_minor": 5
}
