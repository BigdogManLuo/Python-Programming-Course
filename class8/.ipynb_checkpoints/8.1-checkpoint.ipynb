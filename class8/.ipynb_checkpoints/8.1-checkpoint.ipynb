{
 "cells": [
  {
   "cell_type": "markdown",
   "id": "32edd54d",
   "metadata": {},
   "source": [
    "## 面向对象编程\n",
    "面向对象编程（Object-Oriented Programming，OOP）是一种编程范式，它使用“对象”来表示现实世界中的事物，对象可以包含数据（属性）和操作这些数据的方法（行为）\n",
    "\n",
    "<img src=\"img/1.jpg\" width=100 height=100>\n",
    "\n",
    "从“苏菲的世界”引入面向对象编程：书中提到了柏拉图的一个哲学思想，认为现实世界中的事物都是从理想世界中的模型（模具）创造出来的。面向对象编程的思想与此类似，我们可以将现实世界中的事物抽象成程序中的类（类似于模具），然后根据类创建具体的对象（类似于饼干）。\n",
    "<img src=\"img/2.jpg\" width=100 height=100>"
   ]
  },
  {
   "cell_type": "markdown",
   "id": "3b648a5b",
   "metadata": {},
   "source": [
    "## 类和对象\n",
    "\n",
    "类（Class）：用于描述具有相同属性和方法的对象的蓝图，类似于柏拉图哲学中的理想模型。<br>\n",
    "对象（Object）：类的实例，用于表示现实世界中的具体事物，类似于柏拉图哲学中的现实事物。<br>\n",
    "属性（Attribute）：描述对象的特征，例如颜色、大小等。<br>\n",
    "方法（Method）：描述对象可以执行的操作，例如跑、跳等。<br>"
   ]
  },
  {
   "cell_type": "markdown",
   "id": "a457a33e",
   "metadata": {},
   "source": [
    "### 类的定义\n",
    "- 类的定义：使用class关键字定义一个类，类名通常采用驼峰命名法（CamelCase）。<br>\n",
    "- 类的属性：用于描述对象的特征。在Python中，我们使用self关键字来表示对象自身，用self.属性名的方式定义属性。<br>\n",
    "- 构造方法__init__：在创建对象时自动调用的方法，用于初始化对象的属性。<br>\n",
    "- 类的方法：用于描述对象可以执行的操作。在Python中，我们将方法定义在类内部，方法的第一个参数是self，表示对象自身。<br>"
   ]
  },
  {
   "cell_type": "markdown",
   "id": "e6125004",
   "metadata": {},
   "source": [
    "例如：设计一个简单的狗类"
   ]
  },
  {
   "cell_type": "code",
   "execution_count": 5,
   "id": "88232a5e",
   "metadata": {},
   "outputs": [],
   "source": [
    "class Dog:\n",
    "    def __init__(self, name, age):\n",
    "        self.name = name\n",
    "        self.age = age\n",
    "\n",
    "    def bark(self):\n",
    "        print(f\"{self.name} is barking!\")\n",
    "\n",
    "    def sit(self):\n",
    "        print(f\"{self.name} is sitting!\")\n"
   ]
  },
  {
   "cell_type": "markdown",
   "id": "377abfc0",
   "metadata": {},
   "source": [
    "### 类的实例化\n",
    "- 类的实例化是通过类创建具体对象的过程。\n",
    "- 在实例化过程中，Python会自动调用类的构造方法__init__，用于初始化对象的属性。\n",
    "- 构造方法通常接收一些参数，用于设置对象的初始状态。\n"
   ]
  },
  {
   "cell_type": "markdown",
   "id": "3d3cfeef",
   "metadata": {},
   "source": [
    "例如：创建一个名为Alice的小狗"
   ]
  },
  {
   "cell_type": "code",
   "execution_count": 6,
   "id": "4b3c2dfc",
   "metadata": {},
   "outputs": [],
   "source": [
    "dog=Dog(\"Alice\",12)"
   ]
  },
  {
   "cell_type": "markdown",
   "id": "f653dadc",
   "metadata": {},
   "source": [
    "调用dog的方法"
   ]
  },
  {
   "cell_type": "code",
   "execution_count": 7,
   "id": "f41eddb8",
   "metadata": {},
   "outputs": [
    {
     "name": "stdout",
     "output_type": "stream",
     "text": [
      "Alice is barking!\n"
     ]
    }
   ],
   "source": [
    "dog.bark()"
   ]
  },
  {
   "cell_type": "markdown",
   "id": "47636bae",
   "metadata": {},
   "source": [
    "在创建对象时，可以传递参数给构造方法，用于设置对象的初始状态。"
   ]
  },
  {
   "cell_type": "code",
   "execution_count": null,
   "id": "4b6a1288",
   "metadata": {},
   "outputs": [],
   "source": []
  },
  {
   "cell_type": "markdown",
   "id": "bfc56905",
   "metadata": {},
   "source": [
    "设计一个简单的图书管理系统，包括书籍和读者两个类。<br>\n",
    "书籍类包含书名、作者和出版年份等属性，以及显示书籍信息的方法。读者类包含一个书籍对象列表，以及添加书籍、删除书籍和展示所有书籍信息等方法。"
   ]
  },
  {
   "cell_type": "code",
   "execution_count": null,
   "id": "0ca8b8bf",
   "metadata": {},
   "outputs": [],
   "source": []
  },
  {
   "cell_type": "markdown",
   "id": "3ea3537f",
   "metadata": {},
   "source": [
    "补充一个登录界面"
   ]
  },
  {
   "cell_type": "code",
   "execution_count": null,
   "id": "3c013209",
   "metadata": {},
   "outputs": [],
   "source": []
  },
  {
   "cell_type": "markdown",
   "id": "b325ceee",
   "metadata": {},
   "source": [
    "每次打开图书管理系统都会刷新整个系统，那么是否有办法能够保存我们所添加或删除的书籍呢？<br>\n",
    "<br>\n",
    "答案是将数据写入文件，下一次再进行读取"
   ]
  },
  {
   "cell_type": "markdown",
   "id": "eb3e9769",
   "metadata": {},
   "source": [
    "### 将Python对象写入文件\n",
    "使用pickle模块可以将Python对象写入文件中。示例代码如下："
   ]
  },
  {
   "cell_type": "code",
   "execution_count": 14,
   "id": "cc7f1bd9",
   "metadata": {},
   "outputs": [],
   "source": [
    "import pickle\n",
    "\n",
    "# 定义一个Python对象\n",
    "data = {'name': 'John', 'age': 30, 'city': 'New York'}\n",
    "\n",
    "# 将Python对象序列化为二进制数据，并写入文件\n",
    "with open('data.pickle', 'wb') as f:\n",
    "    pickle.dump(data, f)\n"
   ]
  },
  {
   "cell_type": "markdown",
   "id": "6fd69b77",
   "metadata": {},
   "source": [
    "### 从文件中读取Python对象\n",
    "使用pickle模块可以从文件中读取Python对象。示例代码如下："
   ]
  },
  {
   "cell_type": "code",
   "execution_count": null,
   "id": "54b12653",
   "metadata": {},
   "outputs": [],
   "source": [
    "import pickle\n",
    "\n",
    "# 从文件中读取二进制数据，并反序列化为Python对象\n",
    "with open ('data.pickle', 'rb') as f:\n",
    "    data = pickle.load(f)\n",
    "\n",
    "# 输出Python对象\n",
    "print(data)\n"
   ]
  }
 ],
 "metadata": {
  "kernelspec": {
   "display_name": "Python 3 (ipykernel)",
   "language": "python",
   "name": "python3"
  },
  "language_info": {
   "codemirror_mode": {
    "name": "ipython",
    "version": 3
   },
   "file_extension": ".py",
   "mimetype": "text/x-python",
   "name": "python",
   "nbconvert_exporter": "python",
   "pygments_lexer": "ipython3",
   "version": "3.9.13"
  }
 },
 "nbformat": 4,
 "nbformat_minor": 5
}
