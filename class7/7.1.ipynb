{
 "cells": [
  {
   "cell_type": "markdown",
   "id": "5b524f16",
   "metadata": {},
   "source": [
    "## Python与键盘鼠标交互——探索pynput库"
   ]
  },
  {
   "cell_type": "markdown",
   "id": "d8beee95",
   "metadata": {},
   "source": [
    "### 1. 为什么Python需要和硬件交互\n",
    "---\n",
    "- 扩展应用场景：Python与硬件交互可以拓宽Python在各行各业的应用范围。例如，通过控制传感器和执行器，Python可以用于物联网、机器人等领域。\n",
    "\n",
    "- 增强软硬件一体化：通过Python与硬件交互，可以实现软硬件的紧密结合，提供更好的用户体验。例如，通过Python控制键盘和鼠标，可以实现更智能的输入设备操作。\n",
    "\n",
    "<img src=\"img/1.jpg\" width=400 height=300>\n",
    "\n",
    "### 2. Python与硬件交互的实现方式\n",
    "---\n",
    "- 通过操作系统API：Python可以调用操作系统提供的API，实现对硬件设备的直接控制。例如，Windows平台上的ctypes库可以用于调用Windows API\n",
    "- 通过第三方库：Python社区提供了丰富的第三方库，可以简化硬件交互的实现过程。例如，pynput库可以用于控制键盘和鼠标。"
   ]
  },
  {
   "cell_type": "markdown",
   "id": "23869e92",
   "metadata": {},
   "source": [
    "### 3. pynput库的特点和优势\n",
    "---\n",
    "\n",
    "- pynput是一个用于监控和控制键盘鼠标输入事件的Python库。它具有以下特点和优势：\n",
    "\n",
    "- 跨平台：pynput支持Windows、macOS和Linux等多种操作系统。\n",
    "\n",
    "- 易于使用：pynput提供了简单易用的API，可以快速实现键盘鼠标操作和事件监听。\n",
    "\n",
    "- 丰富的功能：pynput支持模拟按键、鼠标移动、鼠标点击等操作，以及监听按键按下、释放、鼠标移动、点击等事件。\n",
    "\n"
   ]
  },
  {
   "cell_type": "markdown",
   "id": "db77d20f",
   "metadata": {},
   "source": [
    "### 安装与使用\n",
    "可以使用pip工具安装pynput库： 在命令行中输入如下命令：\n",
    "```\n",
    "pip install pynput\n",
    "```\n",
    "安装完成后，在Python代码中导入pynput库：\n",
    "```\n",
    "from pynput import keyboard, mouse\n",
    "```"
   ]
  },
  {
   "cell_type": "markdown",
   "id": "1877ddc0",
   "metadata": {},
   "source": [
    "### 4. 使用pynput控制键盘"
   ]
  },
  {
   "cell_type": "markdown",
   "id": "b2bd2b2e",
   "metadata": {},
   "source": [
    "单个按键操作：使用pynput库中的keyboard.Controller类可以模拟按键操作。"
   ]
  },
  {
   "cell_type": "code",
   "execution_count": 1,
   "id": "293d2cf1",
   "metadata": {},
   "outputs": [],
   "source": [
    "from pynput.keyboard import Controller, Key\n",
    "\n",
    "kbd = Controller() #创建一个键盘对象\n",
    "\n",
    "# 模拟按下并释放'a'键\n",
    "kbd.press('a')\n",
    "kbd.release('a')\n",
    "\n",
    "# 模拟按下并释放'Enter'键\n",
    "kbd.press(Key.enter)\n",
    "kbd.release(Key.enter)\n"
   ]
  },
  {
   "cell_type": "markdown",
   "id": "fd78d5d5",
   "metadata": {},
   "source": [
    "组合键操作：要模拟按下'Ctrl+C'组合键，可以使用以下代码："
   ]
  },
  {
   "cell_type": "code",
   "execution_count": 13,
   "id": "2d7df634",
   "metadata": {},
   "outputs": [],
   "source": [
    "from pynput.keyboard import Controller, Key\n",
    "\n",
    "kbd = Controller()\n",
    "\n",
    "# 模拟按下'Ctrl'键\n",
    "kbd.press(Key.ctrl)\n",
    "# 模拟按下并释放'C'键\n",
    "kbd.press('c')\n",
    "kbd.release('c')\n",
    "# 模拟释放'Ctrl'键\n",
    "kbd.release(Key.ctrl)\n"
   ]
  },
  {
   "cell_type": "markdown",
   "id": "df6296e6",
   "metadata": {},
   "source": [
    "监听键盘事件：可以使用pynput库中的keyboard.Listener类"
   ]
  },
  {
   "cell_type": "code",
   "execution_count": 8,
   "id": "f050ed89",
   "metadata": {},
   "outputs": [
    {
     "name": "stdout",
     "output_type": "stream",
     "text": [
      "Key Key.enter released\n",
      "Key Key.shift released\n",
      "Key 'a' pressed\n",
      "Key 'a' released\n",
      "Key '3' pressed\n",
      "Key '3' released\n",
      "Key '2' pressed\n",
      "Key '2' released\n",
      "Key '3' pressed\n",
      "Key '3' released\n",
      "Key Key.esc pressed\n"
     ]
    }
   ],
   "source": [
    "from pynput.keyboard import Listener, Key\n",
    "\n",
    "def on_press(key):\n",
    "    print(f'Key {key} pressed')\n",
    "\n",
    "    # 如果按下Esc键，停止监听\n",
    "    if key == Key.esc:\n",
    "        return False\n",
    "\n",
    "def on_release(key):\n",
    "    print(f'Key {key} released')\n",
    "\n",
    "# 使用with语句创建Listener实例，并启动监听\n",
    "with Listener(on_press=on_press, on_release=on_release) as listener:\n",
    "    listener.join()\n"
   ]
  },
  {
   "cell_type": "markdown",
   "id": "c63ca089",
   "metadata": {},
   "source": [
    "持续打字"
   ]
  },
  {
   "cell_type": "code",
   "execution_count": 17,
   "id": "dbd5e4fb",
   "metadata": {},
   "outputs": [],
   "source": [
    "from pynput.keyboard import Controller, Key\n",
    "\n",
    "kbd = Controller()\n",
    "\n",
    "for i in range(10000):\n",
    "    # 模拟按下并释放'a'键\n",
    "    kbd.press('a')\n",
    "    kbd.release('a')"
   ]
  },
  {
   "cell_type": "markdown",
   "id": "7e8f04c0",
   "metadata": {},
   "source": [
    "打印字符串"
   ]
  },
  {
   "cell_type": "code",
   "execution_count": 25,
   "id": "0110d94e",
   "metadata": {},
   "outputs": [],
   "source": [
    "kbd.type(\"hello!\")"
   ]
  },
  {
   "cell_type": "markdown",
   "id": "d48f1900",
   "metadata": {},
   "source": [
    "#### 一个小练习：带有音效的键盘\n",
    "当用户使用键盘打字时，如果触发到某个按键，则电脑会播放一个音效"
   ]
  },
  {
   "cell_type": "markdown",
   "id": "a603de11",
   "metadata": {},
   "source": [
    "### 5. 使用Pynput 控制鼠标"
   ]
  },
  {
   "cell_type": "markdown",
   "id": "cafb0438",
   "metadata": {},
   "source": [
    "使用pynput库中的mouse.Controller类可以模拟鼠标操作。以下是一个简单的示例，展示如何将鼠标光标移动到屏幕上的指定位置："
   ]
  },
  {
   "cell_type": "code",
   "execution_count": 2,
   "id": "e0c22331",
   "metadata": {},
   "outputs": [],
   "source": [
    "from pynput.mouse import Controller\n",
    "\n",
    "mouse = Controller()\n",
    "\n",
    "# 将鼠标光标移动到屏幕上的(100, 200)位置\n",
    "mouse.position = (100, 200)\n"
   ]
  },
  {
   "cell_type": "markdown",
   "id": "724a5cc0",
   "metadata": {},
   "source": [
    "以下是一个示例，展示如何使用pynput库模拟鼠标点击操作："
   ]
  },
  {
   "cell_type": "code",
   "execution_count": 4,
   "id": "d2165128",
   "metadata": {},
   "outputs": [],
   "source": [
    "from pynput.mouse import Controller, Button\n",
    "\n",
    "mouse = Controller()\n",
    "\n",
    "# 在当前位置单击左键\n",
    "mouse.click(Button.left, 1)\n",
    "\n",
    "# 在当前位置双击右键\n",
    "mouse.click(Button.right, 2)\n"
   ]
  },
  {
   "cell_type": "markdown",
   "id": "5df4d7a1",
   "metadata": {},
   "source": [
    " 监听鼠标事件（但是最好不要在这里测试）"
   ]
  },
  {
   "cell_type": "code",
   "execution_count": null,
   "id": "e70dd8d0",
   "metadata": {},
   "outputs": [],
   "source": [
    "from pynput.mouse import Listener\n",
    "\n",
    "def on_move(x, y):\n",
    "    print(f'Mouse moved to ({x}, {y})')\n",
    "    \n",
    "\n",
    "with Listener(on_move=on_move) as listener:\n",
    "    listener.join()\n"
   ]
  },
  {
   "cell_type": "code",
   "execution_count": null,
   "id": "8899d715",
   "metadata": {},
   "outputs": [
    {
     "name": "stdout",
     "output_type": "stream",
     "text": [
      "Button.left pressed at (942, 843)\n",
      "Button.left released at (942, 843)\n",
      "Button.left pressed at (942, 843)\n",
      "Button.left released at (942, 843)\n",
      "Button.left pressed at (942, 843)\n",
      "Button.left released at (942, 843)\n",
      "Button.left pressed at (926, 887)\n",
      "Button.left released at (926, 887)\n",
      "Button.left pressed at (1140, 300)\n",
      "Button.left released at (1140, 300)\n"
     ]
    }
   ],
   "source": [
    "from pynput.mouse import Listener, Button\n",
    "\n",
    "def on_click(x, y, button, pressed):\n",
    "    if pressed:\n",
    "        print(f'{button} pressed at ({x}, {y})')\n",
    "    else:\n",
    "        print(f'{button} released at ({x}, {y})')\n",
    "\n",
    "with Listener(on_click=on_click) as listener:\n",
    "    listener.join()\n"
   ]
  },
  {
   "cell_type": "markdown",
   "id": "5e0aca89",
   "metadata": {},
   "source": [
    "### 课堂练习1：\n",
    " 将这个jupyter notebook下方的单元格剪切掉"
   ]
  },
  {
   "cell_type": "markdown",
   "id": "74f759a6",
   "metadata": {},
   "source": [
    "### 课堂练习2：\n",
    "使用Python操作鼠标键盘，|打开QQ发送一条消息，例如\"hello!world!\""
   ]
  },
  {
   "cell_type": "code",
   "execution_count": null,
   "id": "bf39bd03",
   "metadata": {},
   "outputs": [],
   "source": [
    "import time\n",
    "from pynput import mouse\n",
    "from pynput import keyboard\n",
    "\n",
    "M=mouse.Controller() #创建一个鼠标对象\n",
    "K=keyboard.Controller() #创建一个键盘对象\n",
    "\n",
    "print(M.position)\n",
    "\n",
    "#找到QQ下拉框（1621，5）\n",
    "M.position=(1400,0)\n",
    "\n",
    "\n",
    "#找到对话联系人（1680，277）\n",
    "time.sleep(0.5)\n",
    "M.position=(1400,277)\n",
    "\n",
    "\n",
    "#双击聊天框\n",
    "M.click(mouse.Button.left, 2)\n",
    "\n",
    "#定位到聊天栏（1059，625）\n",
    "M.position=(800,625)\n",
    "time.sleep(0.5)\n",
    "\n",
    "\n",
    "#点击聊天栏\n",
    "time.sleep(0.5)\n",
    "M.click(mouse.Button.left, 1)\n",
    "#输入对话\n",
    "time.sleep(0.5)\n",
    "K.type(\"hello,world!\")\n",
    "time.sleep(0.5)\n",
    "\n",
    "#发送（ctrl+enter）\n",
    "K.press(keyboard.Key.ctrl_l)\n",
    "K.press(keyboard.Key.enter)\n",
    "K.release(keyboard.Key.enter)\n",
    "K.release(keyboard.Key.ctrl_l)"
   ]
  },
  {
   "cell_type": "markdown",
   "id": "e259f7ae",
   "metadata": {},
   "source": [
    "### 课堂练习3：\n",
    "制作一个带音效的键盘"
   ]
  },
  {
   "cell_type": "code",
   "execution_count": 1,
   "id": "c594d686",
   "metadata": {},
   "outputs": [
    {
     "ename": "ModuleNotFoundError",
     "evalue": "No module named 'simpleaudio'",
     "output_type": "error",
     "traceback": [
      "\u001b[1;31m---------------------------------------------------------------------------\u001b[0m",
      "\u001b[1;31mModuleNotFoundError\u001b[0m                       Traceback (most recent call last)",
      "\u001b[1;32m~\\AppData\\Local\\Temp\\ipykernel_23260\\3660880266.py\u001b[0m in \u001b[0;36m<module>\u001b[1;34m\u001b[0m\n\u001b[1;32m----> 1\u001b[1;33m \u001b[1;32mimport\u001b[0m \u001b[0msimpleaudio\u001b[0m \u001b[1;32mas\u001b[0m \u001b[0msa\u001b[0m\u001b[1;33m\u001b[0m\u001b[1;33m\u001b[0m\u001b[0m\n\u001b[0m\u001b[0;32m      2\u001b[0m \u001b[1;32mfrom\u001b[0m \u001b[0mpynput\u001b[0m\u001b[1;33m.\u001b[0m\u001b[0mkeyboard\u001b[0m \u001b[1;32mimport\u001b[0m \u001b[0mListener\u001b[0m\u001b[1;33m,\u001b[0m \u001b[0mKey\u001b[0m\u001b[1;33m\u001b[0m\u001b[1;33m\u001b[0m\u001b[0m\n\u001b[0;32m      3\u001b[0m \u001b[1;33m\u001b[0m\u001b[0m\n\u001b[0;32m      4\u001b[0m \u001b[1;31m# 定义一个字典，将按键与对应的音效文件关联起来\u001b[0m\u001b[1;33m\u001b[0m\u001b[1;33m\u001b[0m\u001b[0m\n\u001b[0;32m      5\u001b[0m key_sounds = {\n",
      "\u001b[1;31mModuleNotFoundError\u001b[0m: No module named 'simpleaudio'"
     ]
    }
   ],
   "source": [
    "import simpleaudio as sa\n",
    "from pynput.keyboard import Listener, Key\n",
    "\n",
    "# 定义一个字典，将按键与对应的音效文件关联起来\n",
    "key_sounds = {\n",
    "    'a': 'sound1.wav',\n",
    "    'b': 'sound2.wav',\n",
    "    # ... 为其他按键添加音效\n",
    "}\n",
    "\n",
    "# 播放音效的函数\n",
    "def play_sound(sound_file):\n",
    "    wave_obj = sa.WaveObject.from_wave_file(sound_file)\n",
    "    wave_obj.play()\n",
    "\n",
    "def on_press(key):\n",
    "    # 将按键转换为小写字符串，以便与字典中的键进行匹配\n",
    "    key_str = str(key).strip('\\'').lower()\n",
    "\n",
    "    # 检查当前按键是否在key_sounds字典中\n",
    "    if key_str in key_sounds:\n",
    "        # 播放与按键关联的音效\n",
    "        play_sound(key_sounds[key_str])\n",
    "\n",
    "    # 如果按下Esc键，停止监听\n",
    "    if key == Key.esc:\n",
    "        return False\n",
    "\n",
    "# 使用with语句创建Listener实例，并启动监听\n",
    "with Listener(on_press=on_press) as listener:\n",
    "    listener.join()\n"
   ]
  },
  {
   "cell_type": "code",
   "execution_count": null,
   "id": "bad991fb",
   "metadata": {},
   "outputs": [],
   "source": []
  },
  {
   "cell_type": "code",
   "execution_count": null,
   "id": "d15a72f6",
   "metadata": {},
   "outputs": [],
   "source": []
  },
  {
   "cell_type": "code",
   "execution_count": null,
   "id": "7e3d568a",
   "metadata": {},
   "outputs": [],
   "source": []
  },
  {
   "cell_type": "code",
   "execution_count": null,
   "id": "c14cc045",
   "metadata": {},
   "outputs": [],
   "source": []
  },
  {
   "cell_type": "code",
   "execution_count": null,
   "id": "8b016ccf",
   "metadata": {},
   "outputs": [],
   "source": []
  },
  {
   "cell_type": "code",
   "execution_count": null,
   "id": "f2ef3a0a",
   "metadata": {},
   "outputs": [],
   "source": []
  },
  {
   "cell_type": "code",
   "execution_count": null,
   "id": "0c9afe9c",
   "metadata": {},
   "outputs": [],
   "source": []
  },
  {
   "cell_type": "code",
   "execution_count": null,
   "id": "2c645ace",
   "metadata": {},
   "outputs": [],
   "source": []
  },
  {
   "cell_type": "code",
   "execution_count": null,
   "id": "33384f98",
   "metadata": {},
   "outputs": [],
   "source": []
  },
  {
   "cell_type": "code",
   "execution_count": null,
   "id": "255dae97",
   "metadata": {},
   "outputs": [],
   "source": []
  },
  {
   "cell_type": "code",
   "execution_count": null,
   "id": "2021b6ec",
   "metadata": {},
   "outputs": [],
   "source": []
  },
  {
   "cell_type": "code",
   "execution_count": null,
   "id": "fa8ecd44",
   "metadata": {},
   "outputs": [],
   "source": []
  },
  {
   "cell_type": "code",
   "execution_count": null,
   "id": "2ee9ba57",
   "metadata": {},
   "outputs": [],
   "source": []
  },
  {
   "cell_type": "code",
   "execution_count": null,
   "id": "33e013e6",
   "metadata": {},
   "outputs": [],
   "source": []
  },
  {
   "cell_type": "code",
   "execution_count": null,
   "id": "7bdfd828",
   "metadata": {},
   "outputs": [],
   "source": []
  },
  {
   "cell_type": "code",
   "execution_count": null,
   "id": "58d59e08",
   "metadata": {},
   "outputs": [],
   "source": []
  },
  {
   "cell_type": "code",
   "execution_count": null,
   "id": "d993a607",
   "metadata": {},
   "outputs": [],
   "source": []
  },
  {
   "cell_type": "code",
   "execution_count": null,
   "id": "f8e0449b",
   "metadata": {},
   "outputs": [],
   "source": []
  },
  {
   "cell_type": "code",
   "execution_count": null,
   "id": "0286f75c",
   "metadata": {},
   "outputs": [],
   "source": []
  },
  {
   "cell_type": "code",
   "execution_count": null,
   "id": "e0856cd4",
   "metadata": {},
   "outputs": [],
   "source": []
  },
  {
   "cell_type": "code",
   "execution_count": null,
   "id": "85334de5",
   "metadata": {},
   "outputs": [],
   "source": []
  },
  {
   "cell_type": "code",
   "execution_count": null,
   "id": "74c82057",
   "metadata": {},
   "outputs": [],
   "source": []
  },
  {
   "cell_type": "code",
   "execution_count": null,
   "id": "c091ecd0",
   "metadata": {},
   "outputs": [],
   "source": []
  },
  {
   "cell_type": "code",
   "execution_count": null,
   "id": "77f6d102",
   "metadata": {},
   "outputs": [],
   "source": []
  },
  {
   "cell_type": "code",
   "execution_count": null,
   "id": "7c0383b2",
   "metadata": {},
   "outputs": [],
   "source": []
  },
  {
   "cell_type": "code",
   "execution_count": null,
   "id": "c3213ad1",
   "metadata": {},
   "outputs": [],
   "source": []
  },
  {
   "cell_type": "code",
   "execution_count": null,
   "id": "b93b3c4a",
   "metadata": {},
   "outputs": [],
   "source": []
  },
  {
   "cell_type": "code",
   "execution_count": null,
   "id": "15e70786",
   "metadata": {},
   "outputs": [],
   "source": []
  },
  {
   "cell_type": "code",
   "execution_count": null,
   "id": "eba1791a",
   "metadata": {},
   "outputs": [],
   "source": []
  },
  {
   "cell_type": "code",
   "execution_count": null,
   "id": "8986783d",
   "metadata": {},
   "outputs": [],
   "source": []
  },
  {
   "cell_type": "code",
   "execution_count": null,
   "id": "6a33f5b9",
   "metadata": {},
   "outputs": [],
   "source": []
  },
  {
   "cell_type": "code",
   "execution_count": null,
   "id": "e316920a",
   "metadata": {},
   "outputs": [],
   "source": []
  },
  {
   "cell_type": "code",
   "execution_count": null,
   "id": "58fb9417",
   "metadata": {},
   "outputs": [],
   "source": []
  },
  {
   "cell_type": "code",
   "execution_count": null,
   "id": "73c147e8",
   "metadata": {},
   "outputs": [],
   "source": []
  },
  {
   "cell_type": "code",
   "execution_count": null,
   "id": "57a04bd2",
   "metadata": {},
   "outputs": [],
   "source": []
  },
  {
   "cell_type": "code",
   "execution_count": null,
   "id": "4c9233ab",
   "metadata": {},
   "outputs": [],
   "source": []
  },
  {
   "cell_type": "code",
   "execution_count": null,
   "id": "4623a686",
   "metadata": {},
   "outputs": [],
   "source": []
  },
  {
   "cell_type": "code",
   "execution_count": null,
   "id": "e09b3b86",
   "metadata": {},
   "outputs": [],
   "source": []
  },
  {
   "cell_type": "code",
   "execution_count": null,
   "id": "5f71cc78",
   "metadata": {},
   "outputs": [],
   "source": []
  },
  {
   "cell_type": "code",
   "execution_count": null,
   "id": "07959a49",
   "metadata": {},
   "outputs": [],
   "source": []
  }
 ],
 "metadata": {
  "kernelspec": {
   "display_name": "Python 3 (ipykernel)",
   "language": "python",
   "name": "python3"
  },
  "language_info": {
   "codemirror_mode": {
    "name": "ipython",
    "version": 3
   },
   "file_extension": ".py",
   "mimetype": "text/x-python",
   "name": "python",
   "nbconvert_exporter": "python",
   "pygments_lexer": "ipython3",
   "version": "3.9.13"
  }
 },
 "nbformat": 4,
 "nbformat_minor": 5
}
