{
 "cells": [
  {
   "cell_type": "markdown",
   "id": "6f8fc37a",
   "metadata": {},
   "source": [
    "## 系统动力学与生命游戏"
   ]
  },
  {
   "cell_type": "markdown",
   "id": "483810cc",
   "metadata": {},
   "source": [
    "### 蚂蚁如何建筑巢穴？\n",
    "<img src=\"img/3.gif\" width=400 height=300>"
   ]
  },
  {
   "cell_type": "markdown",
   "id": "fbfab644",
   "metadata": {},
   "source": [
    "### 什么是系统动力学？\n",
    "系统动力学是一种用于研究动态系统行为的数学方法，可以用于分析和模拟各种各样的现象，从生物学到物理学，从社会学到经济学。\n",
    "\n",
    "### 一些经典的案例\n",
    "例如 疫情传播动力学模型：<br>\n",
    "http://35.161.88.15/interactive/going-critical/\n",
    "<br>\n",
    "<br>\n",
    "生命游戏：\n",
    "https://www.bilibili.com/video/BV1oq4y1t7mL/?spm_id_from=333.788.recommend_more_video.2&vd_source=091ed7e956fb1142a1033ab9511ee6c3"
   ]
  },
  {
   "cell_type": "markdown",
   "id": "145b44dc",
   "metadata": {},
   "source": [
    "### 启发\n",
    "简单的规则$+$庞大的规模\t$\\Rightarrow$ 复杂现象的涌现 （例如我们目前所难以理解的“智能”） \n",
    "\n",
    "例如：GPT.4"
   ]
  },
  {
   "cell_type": "markdown",
   "id": "f98607fb",
   "metadata": {},
   "source": [
    "1. 可视化"
   ]
  },
  {
   "cell_type": "code",
   "execution_count": 5,
   "id": "3f91c22a",
   "metadata": {},
   "outputs": [
    {
     "data": {
      "text/plain": [
       "<matplotlib.image.AxesImage at 0x185dcec6ee0>"
      ]
     },
     "execution_count": 5,
     "metadata": {},
     "output_type": "execute_result"
    },
    {
     "data": {
      "image/png": "[encoded data removed]",
      "text/plain": [
       "<Figure size 640x480 with 1 Axes>"
      ]
     },
     "metadata": {},
     "output_type": "display_data"
    }
   ],
   "source": [
    "import matplotlib.pyplot as plt\n",
    "\n",
    "#创建初始世界\n",
    "A=[[0,0,1],[1,0,1],[1,1,0]]\n",
    "\n",
    "#可视化\n",
    "plt.imshow(A,cmap=\"Blues\")"
   ]
  },
  {
   "cell_type": "markdown",
   "id": "eb3595de",
   "metadata": {},
   "source": [
    "2. 初始化世界<br>\n",
    "0：消亡 <br>\n",
    "1：存活"
   ]
  },
  {
   "cell_type": "code",
   "execution_count": 13,
   "id": "b1db633b",
   "metadata": {},
   "outputs": [
    {
     "name": "stdout",
     "output_type": "stream",
     "text": [
      "[[1, 1, 0, 1, 1, 0, 0, 1, 1, 1], [0, 1, 1, 0, 0, 0, 0, 0, 0, 1], [0, 1, 0, 1, 1, 0, 1, 1, 1, 1], [0, 1, 0, 1, 0, 1, 0, 0, 0, 0], [1, 0, 0, 1, 1, 0, 0, 1, 0, 1], [0, 0, 0, 1, 0, 1, 1, 1, 0, 0], [1, 0, 0, 0, 0, 1, 0, 1, 1, 1], [1, 1, 1, 1, 0, 0, 1, 0, 0, 0], [1, 1, 0, 0, 0, 1, 1, 1, 0, 0], [1, 1, 0, 1, 1, 1, 0, 1, 0, 0]]\n"
     ]
    }
   ],
   "source": [
    "import random\n",
    "#创建一个nxn的二维列表\n",
    "n=10\n",
    "A=[[0]*(n) for i in range(n)]  #这个语句暂时不用理解\n",
    "\n",
    "#对列表中的每一个元素 设定一个0或1的随机值\n",
    "for i in range(n):\n",
    "    for j in range(n):\n",
    "        A[i][j]=random.choice([0,1])  # 第i行第j列的元素随机赋值为0或1\n",
    "\n",
    "print(A)"
   ]
  },
  {
   "cell_type": "markdown",
   "id": "e36b5ad7",
   "metadata": {},
   "source": [
    "3. 制定演化规则"
   ]
  },
  {
   "cell_type": "code",
   "execution_count": 15,
   "id": "934b4626",
   "metadata": {},
   "outputs": [
    {
     "ename": "IndexError",
     "evalue": "list index out of range",
     "output_type": "error",
     "traceback": [
      "\u001b[1;31m---------------------------------------------------------------------------\u001b[0m",
      "\u001b[1;31mIndexError\u001b[0m                                Traceback (most recent call last)",
      "\u001b[1;32m~\\AppData\\Local\\Temp\\ipykernel_13892\\1006760304.py\u001b[0m in \u001b[0;36m<module>\u001b[1;34m\u001b[0m\n\u001b[0;32m      3\u001b[0m     \u001b[1;32mfor\u001b[0m \u001b[0mj\u001b[0m \u001b[1;32min\u001b[0m \u001b[0mrange\u001b[0m\u001b[1;33m(\u001b[0m\u001b[1;36m1\u001b[0m\u001b[1;33m,\u001b[0m\u001b[0mn\u001b[0m\u001b[1;33m)\u001b[0m\u001b[1;33m:\u001b[0m\u001b[1;33m\u001b[0m\u001b[1;33m\u001b[0m\u001b[0m\n\u001b[0;32m      4\u001b[0m         \u001b[1;31m#繁衍规则\u001b[0m\u001b[1;33m\u001b[0m\u001b[1;33m\u001b[0m\u001b[0m\n\u001b[1;32m----> 5\u001b[1;33m         \u001b[1;32mif\u001b[0m \u001b[0mA\u001b[0m\u001b[1;33m[\u001b[0m\u001b[0mi\u001b[0m\u001b[1;33m-\u001b[0m\u001b[1;36m1\u001b[0m\u001b[1;33m]\u001b[0m\u001b[1;33m[\u001b[0m\u001b[0mj\u001b[0m\u001b[1;33m-\u001b[0m\u001b[1;36m1\u001b[0m\u001b[1;33m]\u001b[0m\u001b[1;33m+\u001b[0m\u001b[0mA\u001b[0m\u001b[1;33m[\u001b[0m\u001b[0mi\u001b[0m\u001b[1;33m-\u001b[0m\u001b[1;36m1\u001b[0m\u001b[1;33m]\u001b[0m\u001b[1;33m[\u001b[0m\u001b[0mj\u001b[0m\u001b[1;33m]\u001b[0m\u001b[1;33m+\u001b[0m\u001b[0mA\u001b[0m\u001b[1;33m[\u001b[0m\u001b[0mi\u001b[0m\u001b[1;33m-\u001b[0m\u001b[1;36m1\u001b[0m\u001b[1;33m]\u001b[0m\u001b[1;33m[\u001b[0m\u001b[0mj\u001b[0m\u001b[1;33m+\u001b[0m\u001b[1;36m1\u001b[0m\u001b[1;33m]\u001b[0m\u001b[1;33m+\u001b[0m\u001b[0mA\u001b[0m\u001b[1;33m[\u001b[0m\u001b[0mi\u001b[0m\u001b[1;33m]\u001b[0m\u001b[1;33m[\u001b[0m\u001b[0mj\u001b[0m\u001b[1;33m-\u001b[0m\u001b[1;36m1\u001b[0m\u001b[1;33m]\u001b[0m\u001b[1;33m+\u001b[0m\u001b[0mA\u001b[0m\u001b[1;33m[\u001b[0m\u001b[0mi\u001b[0m\u001b[1;33m]\u001b[0m\u001b[1;33m[\u001b[0m\u001b[0mj\u001b[0m\u001b[1;33m+\u001b[0m\u001b[1;36m1\u001b[0m\u001b[1;33m]\u001b[0m\u001b[1;33m+\u001b[0m\u001b[0mA\u001b[0m\u001b[1;33m[\u001b[0m\u001b[0mi\u001b[0m\u001b[1;33m+\u001b[0m\u001b[1;36m1\u001b[0m\u001b[1;33m]\u001b[0m\u001b[1;33m[\u001b[0m\u001b[0mj\u001b[0m\u001b[1;33m-\u001b[0m\u001b[1;36m1\u001b[0m\u001b[1;33m]\u001b[0m\u001b[1;33m+\u001b[0m\u001b[0mA\u001b[0m\u001b[1;33m[\u001b[0m\u001b[0mi\u001b[0m\u001b[1;33m+\u001b[0m\u001b[1;36m1\u001b[0m\u001b[1;33m]\u001b[0m\u001b[1;33m[\u001b[0m\u001b[0mj\u001b[0m\u001b[1;33m]\u001b[0m\u001b[1;33m+\u001b[0m\u001b[0mA\u001b[0m\u001b[1;33m[\u001b[0m\u001b[0mi\u001b[0m\u001b[1;33m+\u001b[0m\u001b[1;36m1\u001b[0m\u001b[1;33m]\u001b[0m\u001b[1;33m[\u001b[0m\u001b[0mj\u001b[0m\u001b[1;33m+\u001b[0m\u001b[1;36m1\u001b[0m\u001b[1;33m]\u001b[0m\u001b[1;33m==\u001b[0m\u001b[1;36m3\u001b[0m\u001b[1;33m:\u001b[0m\u001b[1;33m\u001b[0m\u001b[1;33m\u001b[0m\u001b[0m\n\u001b[0m\u001b[0;32m      6\u001b[0m             \u001b[0mA\u001b[0m\u001b[1;33m[\u001b[0m\u001b[0mi\u001b[0m\u001b[1;33m]\u001b[0m\u001b[1;33m[\u001b[0m\u001b[0mj\u001b[0m\u001b[1;33m]\u001b[0m\u001b[1;33m=\u001b[0m\u001b[1;36m1\u001b[0m\u001b[1;33m\u001b[0m\u001b[1;33m\u001b[0m\u001b[0m\n\u001b[0;32m      7\u001b[0m         \u001b[1;31m#消亡规则\u001b[0m\u001b[1;33m\u001b[0m\u001b[1;33m\u001b[0m\u001b[0m\n",
      "\u001b[1;31mIndexError\u001b[0m: list index out of range"
     ]
    }
   ],
   "source": [
    "#设置一个全0的新世界\n",
    "newA=[[0]*(n) for i in range(n)]\n",
    "\n",
    "\n",
    "#遍历世界中每一个格子（细胞）,更新整个世界\n",
    "for i in range(1,n-1):   #i从1开始，到n-1结束\n",
    "    for j in range(1,n-1): #j从1开始，到n-1结束\n",
    "        #繁衍规则\n",
    "        if A[i-1][j-1]+A[i-1][j]+A[i-1][j+1]+A[i][j-1]+A[i][j+1]+A[i+1][j-1]+A[i+1][j]+A[i+1][j+1]==3:\n",
    "            newA[i][j]=1\n",
    "        #消亡规则\n",
    "        if A[i-1][j-1]+A[i-1][j]+A[i-1][j+1]+A[i][j-1]+A[i][j+1]+A[i+1][j-1]+A[i+1][j]+A[i+1][j+1]<2:\n",
    "            newA[i][j]=0\n",
    "        #协同规则\n",
    "        if A[i-1][j-1]+A[i-1][j]+A[i-1][j+1]+A[i][j-1]+A[i][j+1]+A[i+1][j-1]+A[i+1][j]+A[i+1][j+1]==2:\n",
    "            newA[i][j]=A[i][j]\n",
    "        #竞争规则\n",
    "        if A[i-1][j-1]+A[i-1][j]+A[i-1][j+1]+A[i][j-1]+A[i][j+1]+A[i+1][j-1]+A[i+1][j]+A[i+1][j+1]>3:\n",
    "            newA[i][j]=0\n",
    "\n",
    "\n",
    "            "
   ]
  },
  {
   "cell_type": "markdown",
   "id": "a86c31c4",
   "metadata": {},
   "source": [
    "4. 动态显示"
   ]
  },
  {
   "cell_type": "code",
   "execution_count": null,
   "id": "aa60ab45",
   "metadata": {},
   "outputs": [
    {
     "data": {
      "image/png": "[encoded data removed]",
      "text/plain": [
       "<Figure size 640x480 with 1 Axes>"
      ]
     },
     "metadata": {},
     "output_type": "display_data"
    }
   ],
   "source": [
    "import random\n",
    "import matplotlib.pyplot as plt\n",
    "\n",
    "#创建一个 100x100的列表\n",
    "\n",
    "n=100\n",
    "\n",
    "A=[[0]*(n) for i in range(n)]  #这个语句暂时不用理解\n",
    "\n",
    "\n",
    "#初始化世界\n",
    "for i in range(n):\n",
    "    for j in range(n):\n",
    "        A[i][j]=random.choice([0,1])\n",
    "\n",
    "\n",
    "\n",
    "#展示最初的形态\n",
    "fig=plt.figure()\n",
    "plt.axis('off')\n",
    "im=plt.imshow(A,cmap=\"Blues\")\n",
    "        \n",
    "\n",
    "#遍历整个列表\n",
    "for i in range(1000):\n",
    "    newA=[[0]*(n) for i in range(n)]\n",
    "    for i in range(1,n-1):\n",
    "        for j in range(1,n-1):\n",
    "            #繁殖规则：\n",
    "            if A[i-1][j]+A[i][j-1]+A[i][j+1]+A[i+1][j]+A[i-1][j-1]+A[i-1][j+1]+A[i+1][j-1]+A[i+1][j+1]==3:\n",
    "                newA[i][j]=1\n",
    "            elif A[i-1][j]+A[i][j-1]+A[i][j+1]+A[i+1][j]+A[i-1][j-1]+A[i-1][j+1]+A[i+1][j-1]+A[i+1][j+1]<2:\n",
    "                newA[i][j]=0\n",
    "            elif A[i-1][j]+A[i][j-1]+A[i][j+1]+A[i+1][j]+A[i-1][j-1]+A[i-1][j+1]+A[i+1][j-1]+A[i+1][j+1]==2:\n",
    "                newA[i][j]=A[i][j]\n",
    "            elif A[i-1][j]+A[i][j-1]+A[i][j+1]+A[i+1][j]+A[i-1][j-1]+A[i-1][j+1]+A[i+1][j-1]+A[i+1][j+1]>3:\n",
    "                newA[i][j]=0\n",
    "    \n",
    "    A=newA\n",
    "    \n",
    "    \n",
    "    #可视化\n",
    "    im.set_data(A)\n",
    "    plt.pause(0.2)\n",
    "    \n",
    "plt.show()"
   ]
  },
  {
   "cell_type": "code",
   "execution_count": null,
   "id": "d8d9ecde",
   "metadata": {},
   "outputs": [],
   "source": []
  }
 ],
 "metadata": {
  "kernelspec": {
   "display_name": "Python 3 (ipykernel)",
   "language": "python",
   "name": "python3"
  },
  "language_info": {
   "codemirror_mode": {
    "name": "ipython",
    "version": 3
   },
   "file_extension": ".py",
   "mimetype": "text/x-python",
   "name": "python",
   "nbconvert_exporter": "python",
   "pygments_lexer": "ipython3",
   "version": "3.9.13"
  }
 },
 "nbformat": 4,
 "nbformat_minor": 5
}
