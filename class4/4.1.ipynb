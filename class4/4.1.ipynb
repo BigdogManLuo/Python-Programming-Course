{
 "cells": [
  {
   "cell_type": "markdown",
   "id": "66559f4a",
   "metadata": {},
   "source": [
    "## For循环\n",
    "### 确定次数循环\n",
    "\n",
    "一个整蛊程序"
   ]
  },
  {
   "cell_type": "code",
   "execution_count": 2,
   "id": "afc19240",
   "metadata": {},
   "outputs": [],
   "source": [
    "import tkinter\n",
    "import tkinter.messagebox\n",
    "import webbrowser\n",
    "\n",
    "def open():\n",
    "    wqeqdqdqwdq\n",
    "    wqe qw\n",
    "    return\n",
    "\n",
    "if __name__=='__main__':\n",
    "    \n",
    "    for i in range(5):\n",
    "        tkinter.messagebox.showerror(\"Windows错误！\")\n",
    "        \n",
    "    for i in range(5):\n",
    "        webbrowser.open(\"www.bing.com\")\n",
    "        "
   ]
  },
  {
   "cell_type": "markdown",
   "id": "54d217ab",
   "metadata": {},
   "source": [
    "编程常常涉及到重复的任务，而循环结构则恰好用于避免这种规律性的重复任务。\n",
    "<br>\n",
    "例如，打印10遍hello,world! "
   ]
  },
  {
   "cell_type": "code",
   "execution_count": 2,
   "id": "7427e25a",
   "metadata": {},
   "outputs": [
    {
     "name": "stdout",
     "output_type": "stream",
     "text": [
      "hello,world!\n",
      "hello,world!\n",
      "hello,world!\n",
      "hello,world!\n",
      "hello,world!\n",
      "hello,world!\n",
      "hello,world!\n",
      "hello,world!\n",
      "hello,world!\n",
      "hello,world!\n"
     ]
    }
   ],
   "source": [
    "for i in range(10):\n",
    "    print(\"hello,world!\")"
   ]
  },
  {
   "cell_type": "markdown",
   "id": "b25888cd",
   "metadata": {},
   "source": [
    "确定性for循环的语法结构："
   ]
  },
  {
   "cell_type": "code",
   "execution_count": 1,
   "id": "50a7c6e2",
   "metadata": {},
   "outputs": [
    {
     "data": {
      "text/plain": [
       "'\\nfor 变量 in range(次数):\\n    循环体代码块\\n'"
      ]
     },
     "execution_count": 1,
     "metadata": {},
     "output_type": "execute_result"
    }
   ],
   "source": [
    "'''\n",
    "for 变量 in range(次数):\n",
    "    循环体代码块\n",
    "'''"
   ]
  },
  {
   "cell_type": "markdown",
   "id": "17b0560a",
   "metadata": {},
   "source": [
    "练习：设计一个重复的消息弹窗"
   ]
  },
  {
   "cell_type": "code",
   "execution_count": 1,
   "id": "057b889d",
   "metadata": {},
   "outputs": [],
   "source": [
    "import tkinter\n",
    "import tkinter.messagebox\n",
    "import webbrowser\n",
    "\n",
    "#打开10个百度界面\n",
    "for i in range(10):\n",
    "    #tkinter.messagebox.showerror(\"Windows错误,\",\"电脑正在销毁！\")\n",
    "    webbrowser.open(\"www.baidu.com\")"
   ]
  },
  {
   "cell_type": "code",
   "execution_count": null,
   "id": "575ef9b3",
   "metadata": {},
   "outputs": [],
   "source": [
    "import tkinter as tk\n",
    "import random\n",
    "import webbrowser\n",
    "\n",
    "def boom():\n",
    "    window = tk.Tk()\n",
    "    width = window.winfo_screenwidth()\n",
    "    height = window.winfo_screenheight()\n",
    "    a = random.randrange(0, width-20)\n",
    "    b = random.randrange(0, height-20)\n",
    "    window.title('警告')\n",
    "    window.geometry(\"300x50\" + \"+\" + str(a) + \"+\" + str(b))\n",
    "    tk.Label(window, text='Windows系统出现错误！', bg='red',\n",
    "             font=('宋体', 17), width=20, height=4).pack()\n",
    "    window.mainloop()\n",
    "\n",
    "def openWeb():\n",
    "    webbrowser.open(\"www.baidu.com\")\n",
    "\n",
    "if __name__=='__main__':\n",
    "    for i in range(5):\n",
    "        boom()\n",
    "    \n",
    "    for i in range(5):\n",
    "        openWeb()\n"
   ]
  },
  {
   "cell_type": "markdown",
   "id": "0926c4c0",
   "metadata": {},
   "source": [
    "#### 如何将.py程序打包为可执行文件.exe？\n",
    "1.命令行：pip install pyinstaller <br>\n",
    "2.命令行：cd (xxx.py文件所在路径）<br>\n",
    "3.命令行：pyinstaller -F xxx.py<br>\n",
    "参考教程：https://blog.csdn.net/libaineu2004/article/details/112612421"
   ]
  },
  {
   "cell_type": "markdown",
   "id": "3c0d7b07",
   "metadata": {},
   "source": [
    "### 利用循环变量\n",
    "\n",
    "<img src=\"img/2.jpg\" width=300 height=300>"
   ]
  },
  {
   "cell_type": "code",
   "execution_count": 2,
   "id": "df72fe2c",
   "metadata": {},
   "outputs": [
    {
     "name": "stdout",
     "output_type": "stream",
     "text": [
      "这是第0次循环\n",
      "这是第1次循环\n",
      "这是第2次循环\n",
      "这是第3次循环\n",
      "这是第4次循环\n"
     ]
    }
   ],
   "source": [
    "for i in range(5):\n",
    "    print(\"这是第%s次循环\"%i)"
   ]
  },
  {
   "cell_type": "markdown",
   "id": "82a0eba5",
   "metadata": {},
   "source": [
    "#### 用for循环实现累加：<br>\n",
    "如何实现1+2+3+4+...+10?"
   ]
  },
  {
   "cell_type": "code",
   "execution_count": 6,
   "id": "6a3f668b",
   "metadata": {},
   "outputs": [
    {
     "name": "stdout",
     "output_type": "stream",
     "text": [
      "55\n"
     ]
    }
   ],
   "source": [
    "result=0 #用于储存结果，初始值是0\n",
    "for i in range(10+1):\n",
    "    result=result+i\n",
    "print(result)"
   ]
  },
  {
   "cell_type": "markdown",
   "id": "ba8094d9",
   "metadata": {},
   "source": [
    "如何实现2+4+6+8+10...+16?"
   ]
  },
  {
   "cell_type": "code",
   "execution_count": null,
   "id": "f7912dee",
   "metadata": {},
   "outputs": [],
   "source": [
    "result=0 #用于储存结果，初始值是0\n",
    "for i in range(10+1):\n",
    "    result=result+2*i\n",
    "print(result)"
   ]
  },
  {
   "cell_type": "markdown",
   "id": "2b1159c0",
   "metadata": {},
   "source": [
    "如何实现1+3+5+7+9...+15?"
   ]
  },
  {
   "cell_type": "code",
   "execution_count": 8,
   "id": "100bb285",
   "metadata": {},
   "outputs": [
    {
     "name": "stdout",
     "output_type": "stream",
     "text": [
      "99\n"
     ]
    }
   ],
   "source": [
    "result=0 #用于储存结果，初始值是0\n",
    "for i in range(10+1):\n",
    "    result=result+2*i-1\n",
    "print(result)"
   ]
  },
  {
   "cell_type": "markdown",
   "id": "32c9735d",
   "metadata": {},
   "source": [
    "#### 用for循环遍历列表\n"
   ]
  },
  {
   "cell_type": "code",
   "execution_count": 11,
   "id": "2698bf9f",
   "metadata": {},
   "outputs": [
    {
     "name": "stdout",
     "output_type": "stream",
     "text": [
      "A\n",
      "B\n",
      "C\n",
      "D\n"
     ]
    },
    {
     "data": {
      "text/plain": [
       "'\\nprint(friends[0])\\nprint(friends[1])\\nprint(friends[2])\\nprint(friends[3])\\n'"
      ]
     },
     "execution_count": 11,
     "metadata": {},
     "output_type": "execute_result"
    }
   ],
   "source": [
    "friends=[\"A\",\"B\",\"C\",\"D\"]\n",
    "\n",
    "'''\n",
    "for i in range(4):\n",
    "    print(friends[i])\n",
    "'''\n",
    "for i in friends:\n",
    "    print(i)\n",
    "\n",
    "\n",
    "'''\n",
    "print(friends[0])\n",
    "print(friends[1])\n",
    "print(friends[2])\n",
    "print(friends[3])\n",
    "'''"
   ]
  },
  {
   "cell_type": "markdown",
   "id": "3022fe16",
   "metadata": {},
   "source": [
    "### 小练习：For循环在数值计算中的应用\n",
    "\n",
    "（1）用于验证公式：已知$\\frac{\\pi}{4}=\\frac{1}{1}+\\frac{-1}{3}+\\frac{1}{5}+\\frac{-1}{7}+...$,请写一个程序，用于计算圆周率$\\pi$: "
   ]
  },
  {
   "cell_type": "code",
   "execution_count": 19,
   "id": "42c8f73f",
   "metadata": {},
   "outputs": [
    {
     "name": "stdout",
     "output_type": "stream",
     "text": [
      "3.141590653589692\n"
     ]
    }
   ],
   "source": [
    "result=0\n",
    "\n",
    "for i in range(500000):\n",
    "    '''\n",
    "    if i%2==0: #如果这是第偶数次循环\n",
    "        result=result+1/(2*i+1)\n",
    "    else:     #如果这是第奇数次循环\n",
    "        result=result-1/(2*i+1)\n",
    "    '''\n",
    "    \n",
    "    result=result+((-1)**i)/(2*i+1)\n",
    "\n",
    "result=result*4\n",
    "\n",
    "print(result)"
   ]
  },
  {
   "cell_type": "markdown",
   "id": "8943a218",
   "metadata": {},
   "source": [
    "（2）用于求解方程：用数值方法求解方程$cosx=x$ (提示：不动点迭代)\n"
   ]
  },
  {
   "cell_type": "code",
   "execution_count": 2,
   "id": "ada9eb68",
   "metadata": {},
   "outputs": [
    {
     "name": "stdout",
     "output_type": "stream",
     "text": [
      "0.7390851332151607\n"
     ]
    }
   ],
   "source": [
    "import math\n",
    "\n",
    "x=3 #设定一个初值\n",
    "\n",
    "for i in range(1000):\n",
    "    x=math.cos(x)\n",
    "\n",
    "print(x)"
   ]
  },
  {
   "cell_type": "markdown",
   "id": "8140992e",
   "metadata": {},
   "source": [
    "（3）制作查询程序：已知在某个存放了偶数的列表中混入了一些奇数，请你写一个程序，找到其中奇数元素在列表中的位置。\n",
    "例如：<br>\n",
    "N=[4,6,8,46,88,25,48,47,60,59] <br>\n",
    "奇数元素在列表中的位置为:第5,7,9个元素"
   ]
  },
  {
   "cell_type": "code",
   "execution_count": 5,
   "id": "f311d142",
   "metadata": {},
   "outputs": [
    {
     "name": "stdout",
     "output_type": "stream",
     "text": [
      "5\n",
      "7\n",
      "9\n"
     ]
    }
   ],
   "source": [
    "N=[4,6,8,46,88,25,48,47,60,59]\n",
    "\n",
    "#找出奇数元素的坐标\n",
    "\n",
    "for i in range(len(N)):\n",
    "    if N[i]%2==1:\n",
    "        print(i)"
   ]
  },
  {
   "cell_type": "markdown",
   "id": "1ceb2162",
   "metadata": {},
   "source": [
    "### 多重(嵌套)for循环\n",
    "嵌套for循环是指在一个for循环中嵌套另一个for循环，用于迭代遍历多维数组或列表等复杂数据结构。<br>\n",
    "<br>\n",
    "例如，在Python中，我们可以使用嵌套for循环来遍历一个二维列表："
   ]
  },
  {
   "cell_type": "code",
   "execution_count": 7,
   "id": "16b8c5d5",
   "metadata": {},
   "outputs": [
    {
     "name": "stdout",
     "output_type": "stream",
     "text": [
      "1\n",
      "2\n",
      "3\n",
      "4\n",
      "5\n",
      "6\n",
      "7\n",
      "8\n",
      "9\n",
      "10\n",
      "11\n",
      "12\n"
     ]
    }
   ],
   "source": [
    "#建议在spyder的调试模式中运行，观察每一个循环变量的变化情况\n",
    "matrix = [[1, 2, 3], [4, 5, 6], [7, 8, 9],[10, 11, 12]]\n",
    "\n",
    "for i in range(4):  #遍历每一行，总共4行\n",
    "    for j in range(3): #遍历每一列，总共3列\n",
    "        print(matrix[i][j])\n",
    "        "
   ]
  },
  {
   "cell_type": "markdown",
   "id": "3b6659e2",
   "metadata": {},
   "source": [
    "已知在某个二维偶数列表中混入了一些奇数，请你写一个程序，找到其中奇数元素在列表中的位置。\n",
    "<img src=\"img/1.jpg\" width=600 height=400>"
   ]
  },
  {
   "cell_type": "code",
   "execution_count": 20,
   "id": "6dcef0b9",
   "metadata": {},
   "outputs": [
    {
     "name": "stdout",
     "output_type": "stream",
     "text": [
      "奇数元素的坐标为(1,2)\n",
      "奇数元素的坐标为(3,0)\n"
     ]
    }
   ],
   "source": [
    "#建议在spyder的调试模式中运行，观察每一个循环变量的变化情况\n",
    "matrix = [[22,6,54,354], [36,34,45,456], [48,124,54,546],[79,38,46,44],[79,38,46,44]]\n",
    "\n",
    "\n",
    "\n",
    "for i in range(4):  #遍历每一行，总共4行\n",
    "    for j in range(4): #遍历每一列，总共3列\n",
    "        if matrix[i][j]%2==1:\n",
    "            print(\"奇数元素的坐标为(%s,%s)\"%(i,j))"
   ]
  },
  {
   "cell_type": "code",
   "execution_count": 29,
   "id": "1b91c4da",
   "metadata": {},
   "outputs": [
    {
     "data": {
      "text/plain": [
       "5"
      ]
     },
     "execution_count": 29,
     "metadata": {},
     "output_type": "execute_result"
    }
   ],
   "source": [
    "row=len(matrix)  #行数\n",
    "col=len(matrix[0])  #行数\n"
   ]
  },
  {
   "cell_type": "code",
   "execution_count": null,
   "id": "a8a66165",
   "metadata": {},
   "outputs": [],
   "source": []
  }
 ],
 "metadata": {
  "kernelspec": {
   "display_name": "Python 3 (ipykernel)",
   "language": "python",
   "name": "python3"
  },
  "language_info": {
   "codemirror_mode": {
    "name": "ipython",
    "version": 3
   },
   "file_extension": ".py",
   "mimetype": "text/x-python",
   "name": "python",
   "nbconvert_exporter": "python",
   "pygments_lexer": "ipython3",
   "version": "3.9.13"
  }
 },
 "nbformat": 4,
 "nbformat_minor": 5
}
