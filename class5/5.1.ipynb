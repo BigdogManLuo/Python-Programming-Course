{
 "cells": [
  {
   "cell_type": "markdown",
   "id": "fbbb6dbd",
   "metadata": {},
   "source": [
    "## Python 函数\n",
    "<img src=\"./img/1.jpg\" width=500 height=400>"
   ]
  },
  {
   "cell_type": "markdown",
   "id": "1ba87dc2",
   "metadata": {},
   "source": [
    "函数语法"
   ]
  },
  {
   "cell_type": "code",
   "execution_count": 1,
   "id": "1a4a93e7",
   "metadata": {},
   "outputs": [],
   "source": [
    "def functionname( parameters ):\n",
    "   \"函数_文档字符串\"\n",
    "   function_suite\n",
    "   return [expression]\n"
   ]
  },
  {
   "cell_type": "markdown",
   "id": "10bf02e8",
   "metadata": {},
   "source": [
    "一个简单的例子：**获取字符串长度**<br>在Python中我们可能会多次用到获取字符串的长度。对于给定的某个字符串“qiwehqwhoeq”，我们可以通过如下代码："
   ]
  },
  {
   "cell_type": "code",
   "execution_count": 3,
   "id": "916cac70",
   "metadata": {},
   "outputs": [
    {
     "name": "stdout",
     "output_type": "stream",
     "text": [
      "该字符串的长度为： 11\n"
     ]
    }
   ],
   "source": [
    "n=0 #计数器\n",
    "for i in \"qiwehqwhoeq\":\n",
    "    n=n+1\n",
    "\n",
    "print(\"该字符串的长度为：\",n)\n"
   ]
  },
  {
   "cell_type": "markdown",
   "id": "f91a90b2",
   "metadata": {},
   "source": [
    "但实际上这样的执行方式使得代码冗余，降低了可读性。因此Python 提供了一个功能，即允许我们将常用的代码以固定的格式包装成一个独立的模块，只要知道这个模块的名字就可以重复使用它，这个模块就叫做**函数（Function）**"
   ]
  },
  {
   "cell_type": "markdown",
   "id": "e6800e10",
   "metadata": {},
   "source": [
    "完成一个获取字符串长度的函数"
   ]
  },
  {
   "cell_type": "code",
   "execution_count": 9,
   "id": "d4e84d28",
   "metadata": {},
   "outputs": [
    {
     "name": "stdout",
     "output_type": "stream",
     "text": [
      "28\n",
      "36\n"
     ]
    }
   ],
   "source": [
    "def getStrLength(string):\n",
    "    '''\n",
    "    一句话的简介：获取字符串的长度\n",
    "    输入参数: string 任意的字符串\n",
    "    输出参数： n  字符串的长度\n",
    "    '''\n",
    "    n=0 #计数器\n",
    "    for i in string:\n",
    "        n=n+1 #计数器+1\n",
    "    return n  #返回计数器的值\n",
    "\n",
    "###################################\n",
    "string=\"uhqehqwhueq3wtftffwe2163612q\"\n",
    "string1=\"uhqehqwhueq3wtdadsdasdftffwe2163612q\"\n",
    "#函数的调用\n",
    "num1=getStrLength(string)\n",
    "num2=getStrLength(string1)\n",
    "#看一下n的值\n",
    "print(num1)\n",
    "print(num2)"
   ]
  },
  {
   "cell_type": "markdown",
   "id": "f0d7b688",
   "metadata": {},
   "source": [
    "### 形参与实参\n",
    "---\n",
    "形参：在函数的<font color=red>定义</font>部分中参与运算的参数<br>\n",
    "实参：在函数被<font color=red>定义</font>调用过程中参与运算的参数<br>\n",
    "\"实参和形参的区别，就如同剧本选主角，剧本中的角色相当于形参，而演角色的演员就相当于实参。\""
   ]
  },
  {
   "cell_type": "markdown",
   "id": "080a0eda",
   "metadata": {},
   "source": [
    "小练习：定义一个函数，输入参数为a，返回$a^2+1$的值"
   ]
  },
  {
   "cell_type": "code",
   "execution_count": 13,
   "id": "bcd4fc84",
   "metadata": {},
   "outputs": [
    {
     "name": "stdout",
     "output_type": "stream",
     "text": [
      "7922\n"
     ]
    }
   ],
   "source": [
    "def function(a):\n",
    "    return a**2+1\n",
    "\n",
    "#调用函数\n",
    "result=function(89)\n",
    "\n",
    "print(result)"
   ]
  },
  {
   "cell_type": "markdown",
   "id": "001c172f",
   "metadata": {},
   "source": [
    "### 多输入参数\n",
    "---\n",
    "当一个函数有多个输入参数时，如何调用该函数呢？<br>"
   ]
  },
  {
   "cell_type": "code",
   "execution_count": 17,
   "id": "613a2aa9",
   "metadata": {},
   "outputs": [
    {
     "name": "stdout",
     "output_type": "stream",
     "text": [
      "0.6\n"
     ]
    }
   ],
   "source": [
    "def function(a,b):\n",
    "    return a/b\n",
    "\n",
    "#我想计算5/3的值\n",
    "result=function(3,5)\n",
    "\n",
    "print(result)"
   ]
  },
  {
   "cell_type": "markdown",
   "id": "f5022ca9",
   "metadata": {},
   "source": [
    "1. 按位置传参"
   ]
  },
  {
   "cell_type": "code",
   "execution_count": null,
   "id": "617a7d86",
   "metadata": {},
   "outputs": [],
   "source": [
    "def function(a,b):\n",
    "    return a/b\n",
    "\n",
    "#我想计算5/3的值\n",
    "result=function(5,3)\n",
    "\n",
    "print(result)"
   ]
  },
  {
   "cell_type": "markdown",
   "id": "5725beec",
   "metadata": {},
   "source": [
    "2. 按关键词传参"
   ]
  },
  {
   "cell_type": "code",
   "execution_count": 18,
   "id": "13c28d4f",
   "metadata": {},
   "outputs": [
    {
     "name": "stdout",
     "output_type": "stream",
     "text": [
      "1.6666666666666667\n"
     ]
    }
   ],
   "source": [
    "def function(by_div,div):\n",
    "    return by_div/div\n",
    "\n",
    "#我想计算5/3的值\n",
    "result=function(by_div=5,div=3)\n",
    "\n",
    "print(result)"
   ]
  },
  {
   "cell_type": "markdown",
   "id": "99f5e80e",
   "metadata": {},
   "source": [
    "**练习1**：定义一个函数 max_num_in_list(lst)，输入一个列表 lst，返回这个列表中的最大值。提示：可以用 for 循环遍历列表，用 if 判断找到最大值。例如：<br>\n",
    "输入:[1,3,5,7,15,9,11]<br>\n",
    "返回：15"
   ]
  },
  {
   "cell_type": "code",
   "execution_count": 25,
   "id": "3e0840c5",
   "metadata": {},
   "outputs": [
    {
     "name": "stdout",
     "output_type": "stream",
     "text": [
      "99\n"
     ]
    }
   ],
   "source": [
    "def max_num_in_list(lst):\n",
    "    maxNum=lst[0] #手上拿的这个数\n",
    "    for i in lst: #遍历列表的每一个元素\n",
    "        if i>maxNum:\n",
    "            maxNum=i\n",
    "    return maxNum\n",
    "            \n",
    "            \n",
    "#测试\n",
    "L=[1,3,5,7,15,99,9,11]\n",
    "\n",
    "print(max_num_in_list(L))"
   ]
  },
  {
   "cell_type": "markdown",
   "id": "9d1ca77d",
   "metadata": {},
   "source": []
  },
  {
   "cell_type": "markdown",
   "id": "c3d8cbd5",
   "metadata": {},
   "source": [
    "## 模块(Module)和包 (package)"
   ]
  },
  {
   "cell_type": "markdown",
   "id": "e8705a64",
   "metadata": {},
   "source": [
    "在Python中，模块指的是包含了一组函数、变量和类等定义的文件。模块的作用是将相关的功能组织在一起，使代码更加模块化，从而更容易维护和修改。模块可以被其他程序引入，以便在这些程序中使用模块中定义的功能。<br>而包是一种组织Python模块的方式，它将相关的模块组织在一起，形成一个层次结构。"
   ]
  },
  {
   "cell_type": "markdown",
   "id": "407e52ee",
   "metadata": {},
   "source": [
    "<img src=\"./img/2.png\" width=200 height=200>"
   ]
  },
  {
   "cell_type": "markdown",
   "id": "efe67ef8",
   "metadata": {},
   "source": [
    "重复造轮子<br>\n",
    "<img src=\"./img/3.png\" width=400 height=300>\n",
    "<img src=\"./img/4.png\" width=400 height=300>\n",
    "如果你想到什么好的点子或者需要用到什么方法，或许可以先去互联网上查查，说不定已经有人提供了Python的Package给你"
   ]
  },
  {
   "cell_type": "markdown",
   "id": "158262d6",
   "metadata": {},
   "source": [
    "**导入模块与调用模块语法**"
   ]
  },
  {
   "cell_type": "code",
   "execution_count": 10,
   "id": "447023cd",
   "metadata": {},
   "outputs": [
    {
     "data": {
      "text/plain": [
       "'\\nimport xxxx   #这里的xxx指代模块名\\n\\nxxx.someFunction()     #这里的someFunction()指xxx模块内部的函数\\n\\nxxx.someFunction(parameter1,parameter2,...)     #这里的parameter1,parameter2,...指的是该函数需要传入的参数\\n\\n'"
      ]
     },
     "execution_count": 10,
     "metadata": {},
     "output_type": "execute_result"
    }
   ],
   "source": [
    "'''\n",
    "import xxxx   #这里的xxx指代模块名\n",
    "\n",
    "xxx.someFunction()     #这里的someFunction()指xxx模块内部的函数\n",
    "\n",
    "xxx.someFunction(parameter1,parameter2,...)     #这里的parameter1,parameter2,...指的是该函数需要传入的参数\n",
    "\n",
    "'''"
   ]
  },
  {
   "cell_type": "markdown",
   "id": "40ef7686",
   "metadata": {},
   "source": [
    "### Time时间模块"
   ]
  },
  {
   "cell_type": "markdown",
   "id": "a37a1aa9",
   "metadata": {},
   "source": [
    "获取系统时间（时间戳）"
   ]
  },
  {
   "cell_type": "code",
   "execution_count": 12,
   "id": "b6129ec0",
   "metadata": {},
   "outputs": [
    {
     "name": "stdout",
     "output_type": "stream",
     "text": [
      "当前时间戳为: 1680681388.8965292\n"
     ]
    }
   ],
   "source": [
    "import time  # 引入time模块\n",
    " \n",
    "ticks = time.time()\n",
    "print (\"当前时间戳为:\", ticks)"
   ]
  },
  {
   "cell_type": "markdown",
   "id": "670afb7b",
   "metadata": {},
   "source": [
    "获取系统时间（年月日时分秒）"
   ]
  },
  {
   "cell_type": "code",
   "execution_count": 27,
   "id": "23811513",
   "metadata": {},
   "outputs": [
    {
     "name": "stdout",
     "output_type": "stream",
     "text": [
      "本地时间为 : time.struct_time(tm_year=2023, tm_mon=4, tm_mday=5, tm_hour=20, tm_min=4, tm_sec=52, tm_wday=2, tm_yday=95, tm_isdst=0)\n"
     ]
    }
   ],
   "source": [
    "import time\n",
    " \n",
    "localtime = time.localtime(time.time())\n",
    "print (\"本地时间为 :\", localtime)"
   ]
  },
  {
   "cell_type": "markdown",
   "id": "db74a46f",
   "metadata": {},
   "source": [
    "判断程序执行时间"
   ]
  },
  {
   "cell_type": "code",
   "execution_count": 2,
   "id": "9714a710",
   "metadata": {},
   "outputs": [
    {
     "name": "stdout",
     "output_type": "stream",
     "text": [
      "程序执行的时间为：0.005000114440917969秒\n"
     ]
    }
   ],
   "source": [
    "import time\n",
    "\n",
    "start=time.time()#获取初始的时间\n",
    "\n",
    "#需要测试的程序\n",
    "for i in range(1000):\n",
    "    for j in range(120):\n",
    "        a=1\n",
    "\n",
    "end=time.time() #获取结束的时间\n",
    "\n",
    "print(\"程序执行的时间为：%s秒\"%(end-start))"
   ]
  },
  {
   "cell_type": "markdown",
   "id": "7d55c1b0",
   "metadata": {},
   "source": [
    "延时函数"
   ]
  },
  {
   "cell_type": "code",
   "execution_count": 5,
   "id": "950f88c2",
   "metadata": {},
   "outputs": [
    {
     "name": "stdout",
     "output_type": "stream",
     "text": [
      "1680696781.6639135\n",
      "hello\n",
      "world!\n",
      "1680696784.6706145\n"
     ]
    }
   ],
   "source": [
    "print(time.time())\n",
    "print(\"hello\")\n",
    "time.sleep(3) #让程序暂停执行3s\n",
    "print(\"world!\")\n",
    "print(time.time())"
   ]
  },
  {
   "cell_type": "markdown",
   "id": "c55bf717",
   "metadata": {},
   "source": [
    "定时任务\n",
    "\n",
    "假设我们需要在8：21的时候发出一条hello,world！"
   ]
  },
  {
   "cell_type": "code",
   "execution_count": 12,
   "id": "33b399bf",
   "metadata": {},
   "outputs": [
    {
     "name": "stdout",
     "output_type": "stream",
     "text": [
      "hello,world\n"
     ]
    }
   ],
   "source": [
    "import time\n",
    "\n",
    "#需要知道当前时间\n",
    "currentTime=time.localtime()\n",
    "current_Hour=currentTime.tm_hour\n",
    "current_Min=currentTime.tm_min\n",
    "current_Sec\n",
    "#需要知道目标时间\n",
    "goalTime_Hour=20\n",
    "goalTime_Min=25\n",
    "goalTime_Sec\n",
    "#需要知道我们延长的时间s\n",
    "\n",
    "delayTime= (goalTime_Hour-current_Hour)*3600+(goalTime_Min-current_Min)*60\n",
    "\n",
    "#延长时间\n",
    "time.sleep(delayTime)\n",
    "\n",
    "#定时任务\n",
    "print(\"hello,world\")"
   ]
  },
  {
   "cell_type": "markdown",
   "id": "5717a7b5",
   "metadata": {},
   "source": [
    "一种更高效的定时任务\n",
    "\n",
    "while(当前不等于设置的时间的时候)：\n",
    "    等待\n"
   ]
  },
  {
   "cell_type": "code",
   "execution_count": 8,
   "id": "3d0cf6e0",
   "metadata": {},
   "outputs": [
    {
     "data": {
      "text/plain": [
       "20"
      ]
     },
     "execution_count": 8,
     "metadata": {},
     "output_type": "execute_result"
    }
   ],
   "source": [
    "currentTime=time.localtime()\n",
    "\n",
    "currentTime.tm_hour"
   ]
  },
  {
   "cell_type": "code",
   "execution_count": null,
   "id": "4113564a",
   "metadata": {},
   "outputs": [],
   "source": []
  }
 ],
 "metadata": {
  "kernelspec": {
   "display_name": "Python 3 (ipykernel)",
   "language": "python",
   "name": "python3"
  },
  "language_info": {
   "codemirror_mode": {
    "name": "ipython",
    "version": 3
   },
   "file_extension": ".py",
   "mimetype": "text/x-python",
   "name": "python",
   "nbconvert_exporter": "python",
   "pygments_lexer": "ipython3",
   "version": "3.9.13"
  }
 },
 "nbformat": 4,
 "nbformat_minor": 5
}
