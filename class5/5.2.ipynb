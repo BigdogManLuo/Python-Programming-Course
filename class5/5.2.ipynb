{
 "cells": [
  {
   "cell_type": "markdown",
   "id": "d44b717d",
   "metadata": {},
   "source": [
    "## 随机数"
   ]
  },
  {
   "cell_type": "markdown",
   "id": "24a061d9",
   "metadata": {},
   "source": [
    "在Python中，随机数有许多有趣的应用。例如，我们可以使用随机数生成器来模拟掷骰子、抽奖等事件。或者在游戏中，我们可以使用随机数生成器来随机生成敌人的位置、攻击力等属性。在密码学领域中，随机数也是非常重要的，因为随机数可以用于生成加密密钥，从而保证密码的安全性。"
   ]
  },
  {
   "cell_type": "markdown",
   "id": "23cc7bf2",
   "metadata": {},
   "source": [
    "### random模块"
   ]
  },
  {
   "cell_type": "markdown",
   "id": "a2972524",
   "metadata": {},
   "source": [
    "在Python中，我们可以使用random模块的函数生成伪随机数，这些随机数看起来是随机的，但其实是按照一定的算法生成的。这些算法通常使用当前时间作为种子，以保证每次生成的随机数序列都是不同的。<br>\n",
    "<br>"
   ]
  },
  {
   "cell_type": "markdown",
   "id": "09d0b93f",
   "metadata": {},
   "source": [
    "生成0-1之间的随机数:random"
   ]
  },
  {
   "cell_type": "code",
   "execution_count": 5,
   "id": "b516ccce",
   "metadata": {},
   "outputs": [
    {
     "name": "stdout",
     "output_type": "stream",
     "text": [
      "0.6332147178199808\n"
     ]
    }
   ],
   "source": [
    "import random\n",
    "\n",
    "a=random.random()\n",
    "\n",
    "print(a)"
   ]
  },
  {
   "cell_type": "markdown",
   "id": "be166ecf",
   "metadata": {},
   "source": [
    "生成一个a到b之间的整数，包括a和b : randint"
   ]
  },
  {
   "cell_type": "code",
   "execution_count": 9,
   "id": "b7ba0222",
   "metadata": {},
   "outputs": [
    {
     "name": "stdout",
     "output_type": "stream",
     "text": [
      "10\n"
     ]
    }
   ],
   "source": [
    "import random\n",
    "\n",
    "a=random.randint(1,10) #生成一个1-10之间的整数\n",
    "\n",
    "print(a)"
   ]
  },
  {
   "cell_type": "markdown",
   "id": "e5d145f0",
   "metadata": {},
   "source": [
    "生成一个a到b之间的随机浮点数: uniform<br>"
   ]
  },
  {
   "cell_type": "code",
   "execution_count": 13,
   "id": "22c8ffa0",
   "metadata": {},
   "outputs": [
    {
     "name": "stdout",
     "output_type": "stream",
     "text": [
      "1.2814973538563046\n"
     ]
    }
   ],
   "source": [
    "import random\n",
    "\n",
    "a=random.uniform(1,10) #生成一个1-10之间的整数\n",
    "\n",
    "print(a)"
   ]
  },
  {
   "cell_type": "markdown",
   "id": "9dbfaa16",
   "metadata": {},
   "source": [
    "choice(seq): 从序列seq中随机选择一个元素返回。"
   ]
  },
  {
   "cell_type": "code",
   "execution_count": 14,
   "id": "2ce14aaa",
   "metadata": {},
   "outputs": [
    {
     "name": "stdout",
     "output_type": "stream",
     "text": [
      "1\n"
     ]
    }
   ],
   "source": [
    "import random\n",
    "\n",
    "a=random.choice([0,1,2]) #在0，1，2之间随机抽一个数出来\n",
    "\n",
    "print(a)"
   ]
  },
  {
   "cell_type": "markdown",
   "id": "a16bb302",
   "metadata": {},
   "source": [
    "**小练习：编写一个Python程序，生成一个随机密码。要求如下：**\n",
    "\n",
    "密码长度为8位<br>\n",
    "密码由大小写字母、数字以及特殊字符组成<br>\n",
    "密码第一位由大写字母组成<br>\n",
    "密码最后一位使用特殊字符，特殊字符可以使用以下任意一个：!@#$%^&*()。\n",
    "<br>\n",
    "<br>\n",
    "提示： 可以使用str()函数将数字类型转换为字符串；使用+运算符实现字符串拼接。"
   ]
  },
  {
   "cell_type": "code",
   "execution_count": 42,
   "id": "3b9473b6",
   "metadata": {},
   "outputs": [
    {
     "data": {
      "text/plain": [
       "['Q', 'i', 2, 5, 5, 0, 3, ')']"
      ]
     },
     "execution_count": 42,
     "metadata": {},
     "output_type": "execute_result"
    }
   ],
   "source": [
    "import random\n",
    "\n",
    "Letter=['a','b','c','d','e','f','g','h','i','j','k','l','m','n','o','p','q','r','s','t','u','v','w','x','y','z']\n",
    "\n",
    "PartiChar=['!','@','#','$','%','^','&','*','(',')']\n",
    "\n",
    "Code=[] #随机密码\n",
    "\n",
    "for i in range(8):\n",
    "    #如果是末位\n",
    "    if i==7:\n",
    "        Code.append(random.choice(PartiChar))  #从PartiChar列表中随机选一个元素添加到Code中\n",
    "    \n",
    "    #如果是首位\n",
    "    elif i==0:\n",
    "        Code.append(random.choice(Letter))  #从字母列表中选择一位数作为密码\n",
    "    \n",
    "    else: #如果是其他位：\n",
    "\n",
    "        #有50%的概率从数字中选\n",
    "        r=random.random()\n",
    "        if r<0.5:\n",
    "            Code.append(random.randint(0,9))  #从数字列表中选择一位数作为密码\n",
    "        else:\n",
    "            Code.append(random.choice(Letter))  #从字母列表中选择一位数作为密码\n",
    "\n",
    "Code[0]=Code[0].upper()\n",
    "\n",
    "Code"
   ]
  },
  {
   "cell_type": "code",
   "execution_count": null,
   "id": "6ac3b2a7",
   "metadata": {},
   "outputs": [],
   "source": []
  },
  {
   "cell_type": "markdown",
   "id": "5f0d1d22",
   "metadata": {},
   "source": [
    "**小练习：用蒙特卡洛方法计算圆周率**"
   ]
  },
  {
   "cell_type": "code",
   "execution_count": 2,
   "id": "855dfd22",
   "metadata": {},
   "outputs": [
    {
     "name": "stdout",
     "output_type": "stream",
     "text": [
      "3.13772\n"
     ]
    }
   ],
   "source": [
    "import random\n",
    "\n",
    "n=0 #计数器\n",
    "simTime=100000 #模拟投点的次数\n",
    "for i in range(simTime):\n",
    "\n",
    "    #生成一组坐标,位于0-2之间\n",
    "    x=random.uniform(0,2)\n",
    "    y=random.uniform(0,2)\n",
    "\n",
    "    #判断这组坐标在圆内还是圆外\n",
    "    if (x-1)**2+(y-1)**2<=1:\n",
    "        n=n+1 #计数器+1\n",
    "    \n",
    "pi=4*(n/simTime)\n",
    "\n",
    "print(pi)\n",
    "    \n"
   ]
  },
  {
   "cell_type": "code",
   "execution_count": 3,
   "id": "7d629148",
   "metadata": {},
   "outputs": [
    {
     "name": "stdout",
     "output_type": "stream",
     "text": [
      "估算的圆周率为： 8.0\n",
      "估算的圆周率为： 3.2941176470588234\n",
      "估算的圆周率为： 3.287128712871287\n",
      "估算的圆周率为： 3.3642384105960264\n",
      "估算的圆周率为： 3.283582089552239\n",
      "估算的圆周率为： 3.250996015936255\n",
      "估算的圆周率为： 3.1627906976744184\n",
      "估算的圆周率为： 3.156695156695157\n",
      "估算的圆周率为： 3.162094763092269\n",
      "估算的圆周率为： 3.1485587583148558\n",
      "估算的圆周率为： 3.1457085828343314\n",
      "估算的圆周率为： 3.1361161524500907\n",
      "估算的圆周率为： 3.1613976705490847\n"
     ]
    },
    {
     "ename": "TclError",
     "evalue": "invalid command name \".!canvas\"",
     "output_type": "error",
     "traceback": [
      "\u001b[1;31m---------------------------------------------------------------------------\u001b[0m",
      "\u001b[1;31mTclError\u001b[0m                                  Traceback (most recent call last)",
      "\u001b[1;32m~\\AppData\\Local\\Temp\\ipykernel_7588\\3188935993.py\u001b[0m in \u001b[0;36m<module>\u001b[1;34m\u001b[0m\n\u001b[0;32m     29\u001b[0m     \u001b[0mdistance\u001b[0m \u001b[1;33m=\u001b[0m \u001b[0mmath\u001b[0m\u001b[1;33m.\u001b[0m\u001b[0msqrt\u001b[0m\u001b[1;33m(\u001b[0m\u001b[1;33m(\u001b[0m\u001b[0mx\u001b[0m\u001b[1;33m-\u001b[0m\u001b[0msquare_center\u001b[0m\u001b[1;33m[\u001b[0m\u001b[1;36m0\u001b[0m\u001b[1;33m]\u001b[0m\u001b[1;33m)\u001b[0m\u001b[1;33m**\u001b[0m\u001b[1;36m2\u001b[0m \u001b[1;33m+\u001b[0m \u001b[1;33m(\u001b[0m\u001b[0my\u001b[0m\u001b[1;33m-\u001b[0m\u001b[0msquare_center\u001b[0m\u001b[1;33m[\u001b[0m\u001b[1;36m1\u001b[0m\u001b[1;33m]\u001b[0m\u001b[1;33m)\u001b[0m\u001b[1;33m**\u001b[0m\u001b[1;36m2\u001b[0m\u001b[1;33m)\u001b[0m\u001b[1;33m\u001b[0m\u001b[1;33m\u001b[0m\u001b[0m\n\u001b[0;32m     30\u001b[0m     \u001b[1;32mif\u001b[0m \u001b[0mdistance\u001b[0m \u001b[1;33m<=\u001b[0m \u001b[0mcircle_radius\u001b[0m\u001b[1;33m:\u001b[0m\u001b[1;33m\u001b[0m\u001b[1;33m\u001b[0m\u001b[0m\n\u001b[1;32m---> 31\u001b[1;33m         \u001b[0mcanvas\u001b[0m\u001b[1;33m.\u001b[0m\u001b[0mcreate_oval\u001b[0m\u001b[1;33m(\u001b[0m\u001b[0mx\u001b[0m\u001b[1;33m,\u001b[0m \u001b[0my\u001b[0m\u001b[1;33m,\u001b[0m \u001b[0mx\u001b[0m\u001b[1;33m+\u001b[0m\u001b[1;36m1\u001b[0m\u001b[1;33m,\u001b[0m \u001b[0my\u001b[0m\u001b[1;33m+\u001b[0m\u001b[1;36m1\u001b[0m\u001b[1;33m,\u001b[0m \u001b[0mfill\u001b[0m\u001b[1;33m=\u001b[0m\u001b[1;34m'red'\u001b[0m\u001b[1;33m)\u001b[0m\u001b[1;33m\u001b[0m\u001b[1;33m\u001b[0m\u001b[0m\n\u001b[0m\u001b[0;32m     32\u001b[0m         \u001b[0mnum_points_in_circle\u001b[0m \u001b[1;33m+=\u001b[0m \u001b[1;36m1\u001b[0m\u001b[1;33m\u001b[0m\u001b[1;33m\u001b[0m\u001b[0m\n\u001b[0;32m     33\u001b[0m     \u001b[1;32melse\u001b[0m\u001b[1;33m:\u001b[0m\u001b[1;33m\u001b[0m\u001b[1;33m\u001b[0m\u001b[0m\n",
      "\u001b[1;32mD:\\anaconda\\lib\\tkinter\\__init__.py\u001b[0m in \u001b[0;36mcreate_oval\u001b[1;34m(self, *args, **kw)\u001b[0m\n\u001b[0;32m   2796\u001b[0m     \u001b[1;32mdef\u001b[0m \u001b[0mcreate_oval\u001b[0m\u001b[1;33m(\u001b[0m\u001b[0mself\u001b[0m\u001b[1;33m,\u001b[0m \u001b[1;33m*\u001b[0m\u001b[0margs\u001b[0m\u001b[1;33m,\u001b[0m \u001b[1;33m**\u001b[0m\u001b[0mkw\u001b[0m\u001b[1;33m)\u001b[0m\u001b[1;33m:\u001b[0m\u001b[1;33m\u001b[0m\u001b[1;33m\u001b[0m\u001b[0m\n\u001b[0;32m   2797\u001b[0m         \u001b[1;34m\"\"\"Create oval with coordinates x1,y1,x2,y2.\"\"\"\u001b[0m\u001b[1;33m\u001b[0m\u001b[1;33m\u001b[0m\u001b[0m\n\u001b[1;32m-> 2798\u001b[1;33m         \u001b[1;32mreturn\u001b[0m \u001b[0mself\u001b[0m\u001b[1;33m.\u001b[0m\u001b[0m_create\u001b[0m\u001b[1;33m(\u001b[0m\u001b[1;34m'oval'\u001b[0m\u001b[1;33m,\u001b[0m \u001b[0margs\u001b[0m\u001b[1;33m,\u001b[0m \u001b[0mkw\u001b[0m\u001b[1;33m)\u001b[0m\u001b[1;33m\u001b[0m\u001b[1;33m\u001b[0m\u001b[0m\n\u001b[0m\u001b[0;32m   2799\u001b[0m \u001b[1;33m\u001b[0m\u001b[0m\n\u001b[0;32m   2800\u001b[0m     \u001b[1;32mdef\u001b[0m \u001b[0mcreate_polygon\u001b[0m\u001b[1;33m(\u001b[0m\u001b[0mself\u001b[0m\u001b[1;33m,\u001b[0m \u001b[1;33m*\u001b[0m\u001b[0margs\u001b[0m\u001b[1;33m,\u001b[0m \u001b[1;33m**\u001b[0m\u001b[0mkw\u001b[0m\u001b[1;33m)\u001b[0m\u001b[1;33m:\u001b[0m\u001b[1;33m\u001b[0m\u001b[1;33m\u001b[0m\u001b[0m\n",
      "\u001b[1;32mD:\\anaconda\\lib\\tkinter\\__init__.py\u001b[0m in \u001b[0;36m_create\u001b[1;34m(self, itemType, args, kw)\u001b[0m\n\u001b[0;32m   2774\u001b[0m         \u001b[1;32melse\u001b[0m\u001b[1;33m:\u001b[0m\u001b[1;33m\u001b[0m\u001b[1;33m\u001b[0m\u001b[0m\n\u001b[0;32m   2775\u001b[0m             \u001b[0mcnf\u001b[0m \u001b[1;33m=\u001b[0m \u001b[1;33m{\u001b[0m\u001b[1;33m}\u001b[0m\u001b[1;33m\u001b[0m\u001b[1;33m\u001b[0m\u001b[0m\n\u001b[1;32m-> 2776\u001b[1;33m         return self.tk.getint(self.tk.call(\n\u001b[0m\u001b[0;32m   2777\u001b[0m             \u001b[0mself\u001b[0m\u001b[1;33m.\u001b[0m\u001b[0m_w\u001b[0m\u001b[1;33m,\u001b[0m \u001b[1;34m'create'\u001b[0m\u001b[1;33m,\u001b[0m \u001b[0mitemType\u001b[0m\u001b[1;33m,\u001b[0m\u001b[1;33m\u001b[0m\u001b[1;33m\u001b[0m\u001b[0m\n\u001b[0;32m   2778\u001b[0m             *(args + self._options(cnf, kw))))\n",
      "\u001b[1;31mTclError\u001b[0m: invalid command name \".!canvas\""
     ]
    }
   ],
   "source": [
    "import random\n",
    "import math\n",
    "import tkinter as tk\n",
    "\n",
    "# 创建画布\n",
    "canvas_width = 400\n",
    "canvas_height = 400\n",
    "canvas = tk.Canvas(width=canvas_width, height=canvas_height)\n",
    "canvas.pack()\n",
    "\n",
    "# 绘制正方形和内接圆\n",
    "square_size = 300\n",
    "square_center = (canvas_width/2, canvas_height/2)\n",
    "square_coords = (square_center[0]-square_size/2, square_center[1]-square_size/2,\n",
    "                 square_center[0]+square_size/2, square_center[1]+square_size/2)\n",
    "canvas.create_rectangle(square_coords, outline='black')\n",
    "canvas.create_oval(square_coords, outline='black')\n",
    "\n",
    "# 计算正方形和内接圆的面积和半径\n",
    "square_area = square_size**2\n",
    "circle_radius = square_size/2\n",
    "\n",
    "# 生成随机点并绘制\n",
    "num_points = 2000\n",
    "num_points_in_circle = 0\n",
    "for i in range(num_points):\n",
    "    x = random.uniform(square_coords[0], square_coords[2])\n",
    "    y = random.uniform(square_coords[1], square_coords[3])\n",
    "    distance = math.sqrt((x-square_center[0])**2 + (y-square_center[1])**2)\n",
    "    if distance <= circle_radius:\n",
    "        canvas.create_oval(x, y, x+1, y+1, fill='red')\n",
    "        num_points_in_circle += 1\n",
    "    else:\n",
    "        canvas.create_oval(x, y, x+1, y+1, fill='blue')\n",
    "    canvas.update()\n",
    "    canvas.after(3)\n",
    "    \n",
    "    if i%50==1:\n",
    "        # 估算圆周率\n",
    "        pi_estimate = 4 * num_points_in_circle / i\n",
    "        print('估算的圆周率为：', pi_estimate)\n",
    "\n",
    "# 进入主循环\n",
    "tk.mainloop()\n"
   ]
  },
  {
   "cell_type": "markdown",
   "id": "ff3c5bc2",
   "metadata": {},
   "source": [
    "## 本福德定律"
   ]
  },
  {
   "cell_type": "code",
   "execution_count": null,
   "id": "73374008",
   "metadata": {},
   "outputs": [],
   "source": []
  }
 ],
 "metadata": {
  "kernelspec": {
   "display_name": "Python 3 (ipykernel)",
   "language": "python",
   "name": "python3"
  },
  "language_info": {
   "codemirror_mode": {
    "name": "ipython",
    "version": 3
   },
   "file_extension": ".py",
   "mimetype": "text/x-python",
   "name": "python",
   "nbconvert_exporter": "python",
   "pygments_lexer": "ipython3",
   "version": "3.9.13"
  }
 },
 "nbformat": 4,
 "nbformat_minor": 5
}
