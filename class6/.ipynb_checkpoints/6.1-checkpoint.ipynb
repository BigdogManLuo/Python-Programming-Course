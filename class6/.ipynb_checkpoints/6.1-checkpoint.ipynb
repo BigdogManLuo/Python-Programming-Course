{
 "cells": [
  {
   "cell_type": "markdown",
   "id": "6ffc68aa",
   "metadata": {},
   "source": [
    "# Python数据分析与可视化\n",
    "        ——Pandas与matplotlib入门"
   ]
  },
  {
   "cell_type": "markdown",
   "id": "8c57fe2a",
   "metadata": {},
   "source": [
    "## 1. 数据分析基础"
   ]
  },
  {
   "cell_type": "markdown",
   "id": "be8657f3",
   "metadata": {},
   "source": [
    "### 1.1 数据分析的基本流程\n",
    "---\n",
    "**数据分析通常包括以下几个步骤：**\n",
    "\n",
    "- 数据收集：从各种渠道获取原始数据\n",
    "- 数据清洗：对收集到的数据进行整理、去重、缺失值处理等，使其适合分析\n",
    "- 数据探索：通过统计分析、可视化等手段，对数据进行初步的分析和理解\n",
    "- 数据建模：根据业务需求，使用合适的数据模型进行建模和预测\n",
    "- 结果评估：评估模型的性能，调整模型参数，优化模型效果\n",
    "- 结果呈现：将数据分析和建模的结果以图表、报告等形式呈现给相关人员"
   ]
  },
  {
   "cell_type": "markdown",
   "id": "e5a18390",
   "metadata": {},
   "source": [
    "### 1.2 数据分析中常用的Python库\n",
    "---\n",
    "在Python的数据分析领域，有许多成熟的库可供选择，以下是其中最常用的一些：\n",
    "\n",
    "- NumPy：提供多维数组对象及其相关操作，是许多数据分析库的基础\n",
    "- Pandas：强大的数据处理和分析库，提供了方便的数据结构和数据操作方法\n",
    "- matplotlib：数据可视化库，支持多种图形绘制和自定义\n",
    "- seaborn：基于matplotlib的高级数据可视化库，提供更美观的图形和更简洁的接口\n",
    "- scikit-learn：机器学习库，提供了大量的算法和模型，便于进行数据建模和预测\n",
    "- statsmodels：统计建模库，提供了广泛的统计模型、测试和数据探索功能\n",
    "- scipy：科学计算库，提供了一系列数值计算方法，如积分、优化等"
   ]
  },
  {
   "cell_type": "markdown",
   "id": "5393ccc5",
   "metadata": {},
   "source": [
    "## 2. Pandas 安装与使用\n",
    "---\n",
    "<font color=red>Python的设计者从来都没有想过能够大包大揽干完所有活。</font>\n",
    "<br>\n",
    "<br>\n",
    "Pandas是一个开源的Python库，专为数据处理和分析而设计。Pandas提供了强大的数据结构和函数，让数据分析变得更加简单高效。以下是使用Pandas的一些优点：\n",
    "\n",
    "- 灵活的数据结构：提供了Series和DataFrame两种数据结构，能轻松处理不同类型的数据\n",
    "- 数据处理：支持数据筛选、排序、缺失值处理、数据合并等多种操作，方便对数据进行处理和清洗\n",
    "- 数据分析：内置许多统计分析功能，如数据分组、聚合、描述性统计等\n",
    "- 高性能：基于NumPy构建，充分利用了NumPy的高性能计算能力，同时进行了一些优化，使得数据操作更高效\n",
    "- 易于集成：与其他数据分析和可视化库（如matplotlib、seaborn、scikit-learn等）具有良好的兼容性，可以无缝集成"
   ]
  },
  {
   "cell_type": "markdown",
   "id": "a3e24c41",
   "metadata": {},
   "source": [
    "### 2.1安装Pandas<br>\n",
    "在命令行窗口输入：pip install pandas"
   ]
  },
  {
   "cell_type": "markdown",
   "id": "c4fd6701",
   "metadata": {},
   "source": [
    "安装完成后，可以通过以下代码检查Pandas是否安装成功："
   ]
  },
  {
   "cell_type": "code",
   "execution_count": 1,
   "id": "a9264932",
   "metadata": {
    "scrolled": true
   },
   "outputs": [
    {
     "name": "stdout",
     "output_type": "stream",
     "text": [
      "1.4.4\n"
     ]
    }
   ],
   "source": [
    "import pandas as pd\n",
    "print(pd.__version__)"
   ]
  },
  {
   "cell_type": "markdown",
   "id": "6c9f2da9",
   "metadata": {},
   "source": [
    "### 2.2 读取和存储数据"
   ]
  },
  {
   "cell_type": "markdown",
   "id": "c9e36141",
   "metadata": {},
   "source": [
    "读取excel文件"
   ]
  },
  {
   "cell_type": "code",
   "execution_count": 13,
   "id": "3e5efd90",
   "metadata": {},
   "outputs": [
    {
     "data": {
      "text/html": [
       "<div>\n",
       "<style scoped>\n",
       "    .dataframe tbody tr th:only-of-type {\n",
       "        vertical-align: middle;\n",
       "    }\n",
       "\n",
       "    .dataframe tbody tr th {\n",
       "        vertical-align: top;\n",
       "    }\n",
       "\n",
       "    .dataframe thead th {\n",
       "        text-align: right;\n",
       "    }\n",
       "</style>\n",
       "<table border=\"1\" class=\"dataframe\">\n",
       "  <thead>\n",
       "    <tr style=\"text-align: right;\">\n",
       "      <th></th>\n",
       "      <th>姓名</th>\n",
       "      <th>成绩</th>\n",
       "    </tr>\n",
       "  </thead>\n",
       "  <tbody>\n",
       "    <tr>\n",
       "      <th>0</th>\n",
       "      <td>Alice</td>\n",
       "      <td>485.0</td>\n",
       "    </tr>\n",
       "    <tr>\n",
       "      <th>1</th>\n",
       "      <td>Bob</td>\n",
       "      <td>56.0</td>\n",
       "    </tr>\n",
       "    <tr>\n",
       "      <th>2</th>\n",
       "      <td>Cindy</td>\n",
       "      <td>NaN</td>\n",
       "    </tr>\n",
       "    <tr>\n",
       "      <th>3</th>\n",
       "      <td>David</td>\n",
       "      <td>39.0</td>\n",
       "    </tr>\n",
       "    <tr>\n",
       "      <th>4</th>\n",
       "      <td>Ele</td>\n",
       "      <td>569.0</td>\n",
       "    </tr>\n",
       "    <tr>\n",
       "      <th>5</th>\n",
       "      <td>Frank</td>\n",
       "      <td>526.0</td>\n",
       "    </tr>\n",
       "    <tr>\n",
       "      <th>6</th>\n",
       "      <td>Gurobi</td>\n",
       "      <td>89.0</td>\n",
       "    </tr>\n",
       "    <tr>\n",
       "      <th>7</th>\n",
       "      <td>Haha</td>\n",
       "      <td>789.0</td>\n",
       "    </tr>\n",
       "    <tr>\n",
       "      <th>8</th>\n",
       "      <td>Iraon</td>\n",
       "      <td>416.0</td>\n",
       "    </tr>\n",
       "  </tbody>\n",
       "</table>\n",
       "</div>"
      ],
      "text/plain": [
       "       姓名     成绩\n",
       "0   Alice  485.0\n",
       "1     Bob   56.0\n",
       "2   Cindy    NaN\n",
       "3   David   39.0\n",
       "4     Ele  569.0\n",
       "5   Frank  526.0\n",
       "6  Gurobi   89.0\n",
       "7    Haha  789.0\n",
       "8   Iraon  416.0"
      ]
     },
     "execution_count": 13,
     "metadata": {},
     "output_type": "execute_result"
    }
   ],
   "source": [
    "import pandas as pd\n",
    "\n",
    "data = pd.read_excel(\"data\\data.xlsx\", sheet_name='Sheet1')\n",
    "\n",
    "data"
   ]
  },
  {
   "cell_type": "markdown",
   "id": "5a16c199",
   "metadata": {},
   "source": [
    "保存到excel文件"
   ]
  },
  {
   "cell_type": "code",
   "execution_count": 14,
   "id": "e1c948a8",
   "metadata": {},
   "outputs": [],
   "source": [
    "data.to_excel('output.xlsx', sheet_name='Sheet1', index=False)"
   ]
  },
  {
   "cell_type": "markdown",
   "id": "85471303",
   "metadata": {},
   "source": [
    "### 2.3数据选择与筛选\n",
    "Pandas提供了多种数据选择和筛选方法："
   ]
  },
  {
   "cell_type": "markdown",
   "id": "4565a28a",
   "metadata": {},
   "source": [
    "通过列名选择数据："
   ]
  },
  {
   "cell_type": "code",
   "execution_count": 15,
   "id": "5352c1a6",
   "metadata": {},
   "outputs": [
    {
     "data": {
      "text/plain": [
       "0     Alice\n",
       "1       Bob\n",
       "2     Cindy\n",
       "3     David\n",
       "4       Ele\n",
       "5     Frank\n",
       "6    Gurobi\n",
       "7      Haha\n",
       "8     Iraon\n",
       "Name: 姓名, dtype: object"
      ]
     },
     "execution_count": 15,
     "metadata": {},
     "output_type": "execute_result"
    }
   ],
   "source": [
    "data['姓名']"
   ]
  },
  {
   "cell_type": "markdown",
   "id": "14a07c2c",
   "metadata": {},
   "source": [
    "通过行号选择数据"
   ]
  },
  {
   "cell_type": "code",
   "execution_count": 16,
   "id": "fe127ffc",
   "metadata": {},
   "outputs": [
    {
     "data": {
      "text/plain": [
       "姓名    Cindy\n",
       "成绩      NaN\n",
       "Name: 2, dtype: object"
      ]
     },
     "execution_count": 16,
     "metadata": {},
     "output_type": "execute_result"
    }
   ],
   "source": [
    "data.loc[2]"
   ]
  },
  {
   "cell_type": "markdown",
   "id": "faa5af65",
   "metadata": {},
   "source": [
    "使用条件筛选数据："
   ]
  },
  {
   "cell_type": "code",
   "execution_count": 17,
   "id": "f0d73550",
   "metadata": {},
   "outputs": [
    {
     "data": {
      "text/html": [
       "<div>\n",
       "<style scoped>\n",
       "    .dataframe tbody tr th:only-of-type {\n",
       "        vertical-align: middle;\n",
       "    }\n",
       "\n",
       "    .dataframe tbody tr th {\n",
       "        vertical-align: top;\n",
       "    }\n",
       "\n",
       "    .dataframe thead th {\n",
       "        text-align: right;\n",
       "    }\n",
       "</style>\n",
       "<table border=\"1\" class=\"dataframe\">\n",
       "  <thead>\n",
       "    <tr style=\"text-align: right;\">\n",
       "      <th></th>\n",
       "      <th>姓名</th>\n",
       "      <th>成绩</th>\n",
       "    </tr>\n",
       "  </thead>\n",
       "  <tbody>\n",
       "    <tr>\n",
       "      <th>0</th>\n",
       "      <td>Alice</td>\n",
       "      <td>485.0</td>\n",
       "    </tr>\n",
       "    <tr>\n",
       "      <th>4</th>\n",
       "      <td>Ele</td>\n",
       "      <td>569.0</td>\n",
       "    </tr>\n",
       "    <tr>\n",
       "      <th>5</th>\n",
       "      <td>Frank</td>\n",
       "      <td>526.0</td>\n",
       "    </tr>\n",
       "    <tr>\n",
       "      <th>7</th>\n",
       "      <td>Haha</td>\n",
       "      <td>789.0</td>\n",
       "    </tr>\n",
       "    <tr>\n",
       "      <th>8</th>\n",
       "      <td>Iraon</td>\n",
       "      <td>416.0</td>\n",
       "    </tr>\n",
       "  </tbody>\n",
       "</table>\n",
       "</div>"
      ],
      "text/plain": [
       "      姓名     成绩\n",
       "0  Alice  485.0\n",
       "4    Ele  569.0\n",
       "5  Frank  526.0\n",
       "7   Haha  789.0\n",
       "8  Iraon  416.0"
      ]
     },
     "execution_count": 17,
     "metadata": {},
     "output_type": "execute_result"
    }
   ],
   "source": [
    "data[data['成绩'] > 100]"
   ]
  },
  {
   "cell_type": "markdown",
   "id": "65332280",
   "metadata": {},
   "source": [
    "使用多个条件筛选数据"
   ]
  },
  {
   "cell_type": "code",
   "execution_count": 18,
   "id": "f53601f4",
   "metadata": {},
   "outputs": [
    {
     "data": {
      "text/html": [
       "<div>\n",
       "<style scoped>\n",
       "    .dataframe tbody tr th:only-of-type {\n",
       "        vertical-align: middle;\n",
       "    }\n",
       "\n",
       "    .dataframe tbody tr th {\n",
       "        vertical-align: top;\n",
       "    }\n",
       "\n",
       "    .dataframe thead th {\n",
       "        text-align: right;\n",
       "    }\n",
       "</style>\n",
       "<table border=\"1\" class=\"dataframe\">\n",
       "  <thead>\n",
       "    <tr style=\"text-align: right;\">\n",
       "      <th></th>\n",
       "      <th>姓名</th>\n",
       "      <th>成绩</th>\n",
       "    </tr>\n",
       "  </thead>\n",
       "  <tbody>\n",
       "    <tr>\n",
       "      <th>0</th>\n",
       "      <td>Alice</td>\n",
       "      <td>485.0</td>\n",
       "    </tr>\n",
       "    <tr>\n",
       "      <th>8</th>\n",
       "      <td>Iraon</td>\n",
       "      <td>416.0</td>\n",
       "    </tr>\n",
       "  </tbody>\n",
       "</table>\n",
       "</div>"
      ],
      "text/plain": [
       "      姓名     成绩\n",
       "0  Alice  485.0\n",
       "8  Iraon  416.0"
      ]
     },
     "execution_count": 18,
     "metadata": {},
     "output_type": "execute_result"
    }
   ],
   "source": [
    "data[(data['成绩'] > 100) & (data['成绩'] < 500)]"
   ]
  },
  {
   "cell_type": "markdown",
   "id": "a4ce4db9",
   "metadata": {},
   "source": [
    "### 2.4数据排序"
   ]
  },
  {
   "cell_type": "markdown",
   "id": "c4e80733",
   "metadata": {},
   "source": [
    "按某一列单列升序排序"
   ]
  },
  {
   "cell_type": "code",
   "execution_count": 19,
   "id": "bd00cc76",
   "metadata": {},
   "outputs": [
    {
     "data": {
      "text/html": [
       "<div>\n",
       "<style scoped>\n",
       "    .dataframe tbody tr th:only-of-type {\n",
       "        vertical-align: middle;\n",
       "    }\n",
       "\n",
       "    .dataframe tbody tr th {\n",
       "        vertical-align: top;\n",
       "    }\n",
       "\n",
       "    .dataframe thead th {\n",
       "        text-align: right;\n",
       "    }\n",
       "</style>\n",
       "<table border=\"1\" class=\"dataframe\">\n",
       "  <thead>\n",
       "    <tr style=\"text-align: right;\">\n",
       "      <th></th>\n",
       "      <th>姓名</th>\n",
       "      <th>成绩</th>\n",
       "    </tr>\n",
       "  </thead>\n",
       "  <tbody>\n",
       "    <tr>\n",
       "      <th>3</th>\n",
       "      <td>David</td>\n",
       "      <td>39.0</td>\n",
       "    </tr>\n",
       "    <tr>\n",
       "      <th>1</th>\n",
       "      <td>Bob</td>\n",
       "      <td>56.0</td>\n",
       "    </tr>\n",
       "    <tr>\n",
       "      <th>6</th>\n",
       "      <td>Gurobi</td>\n",
       "      <td>89.0</td>\n",
       "    </tr>\n",
       "    <tr>\n",
       "      <th>8</th>\n",
       "      <td>Iraon</td>\n",
       "      <td>416.0</td>\n",
       "    </tr>\n",
       "    <tr>\n",
       "      <th>0</th>\n",
       "      <td>Alice</td>\n",
       "      <td>485.0</td>\n",
       "    </tr>\n",
       "    <tr>\n",
       "      <th>5</th>\n",
       "      <td>Frank</td>\n",
       "      <td>526.0</td>\n",
       "    </tr>\n",
       "    <tr>\n",
       "      <th>4</th>\n",
       "      <td>Ele</td>\n",
       "      <td>569.0</td>\n",
       "    </tr>\n",
       "    <tr>\n",
       "      <th>7</th>\n",
       "      <td>Haha</td>\n",
       "      <td>789.0</td>\n",
       "    </tr>\n",
       "    <tr>\n",
       "      <th>2</th>\n",
       "      <td>Cindy</td>\n",
       "      <td>NaN</td>\n",
       "    </tr>\n",
       "  </tbody>\n",
       "</table>\n",
       "</div>"
      ],
      "text/plain": [
       "       姓名     成绩\n",
       "3   David   39.0\n",
       "1     Bob   56.0\n",
       "6  Gurobi   89.0\n",
       "8   Iraon  416.0\n",
       "0   Alice  485.0\n",
       "5   Frank  526.0\n",
       "4     Ele  569.0\n",
       "7    Haha  789.0\n",
       "2   Cindy    NaN"
      ]
     },
     "execution_count": 19,
     "metadata": {},
     "output_type": "execute_result"
    }
   ],
   "source": [
    "data.sort_values(by='成绩')"
   ]
  },
  {
   "cell_type": "markdown",
   "id": "d307af91",
   "metadata": {},
   "source": [
    "降序排序"
   ]
  },
  {
   "cell_type": "code",
   "execution_count": 20,
   "id": "2a4a80a3",
   "metadata": {},
   "outputs": [
    {
     "data": {
      "text/html": [
       "<div>\n",
       "<style scoped>\n",
       "    .dataframe tbody tr th:only-of-type {\n",
       "        vertical-align: middle;\n",
       "    }\n",
       "\n",
       "    .dataframe tbody tr th {\n",
       "        vertical-align: top;\n",
       "    }\n",
       "\n",
       "    .dataframe thead th {\n",
       "        text-align: right;\n",
       "    }\n",
       "</style>\n",
       "<table border=\"1\" class=\"dataframe\">\n",
       "  <thead>\n",
       "    <tr style=\"text-align: right;\">\n",
       "      <th></th>\n",
       "      <th>姓名</th>\n",
       "      <th>成绩</th>\n",
       "    </tr>\n",
       "  </thead>\n",
       "  <tbody>\n",
       "    <tr>\n",
       "      <th>7</th>\n",
       "      <td>Haha</td>\n",
       "      <td>789.0</td>\n",
       "    </tr>\n",
       "    <tr>\n",
       "      <th>4</th>\n",
       "      <td>Ele</td>\n",
       "      <td>569.0</td>\n",
       "    </tr>\n",
       "    <tr>\n",
       "      <th>5</th>\n",
       "      <td>Frank</td>\n",
       "      <td>526.0</td>\n",
       "    </tr>\n",
       "    <tr>\n",
       "      <th>0</th>\n",
       "      <td>Alice</td>\n",
       "      <td>485.0</td>\n",
       "    </tr>\n",
       "    <tr>\n",
       "      <th>8</th>\n",
       "      <td>Iraon</td>\n",
       "      <td>416.0</td>\n",
       "    </tr>\n",
       "    <tr>\n",
       "      <th>6</th>\n",
       "      <td>Gurobi</td>\n",
       "      <td>89.0</td>\n",
       "    </tr>\n",
       "    <tr>\n",
       "      <th>1</th>\n",
       "      <td>Bob</td>\n",
       "      <td>56.0</td>\n",
       "    </tr>\n",
       "    <tr>\n",
       "      <th>3</th>\n",
       "      <td>David</td>\n",
       "      <td>39.0</td>\n",
       "    </tr>\n",
       "    <tr>\n",
       "      <th>2</th>\n",
       "      <td>Cindy</td>\n",
       "      <td>NaN</td>\n",
       "    </tr>\n",
       "  </tbody>\n",
       "</table>\n",
       "</div>"
      ],
      "text/plain": [
       "       姓名     成绩\n",
       "7    Haha  789.0\n",
       "4     Ele  569.0\n",
       "5   Frank  526.0\n",
       "0   Alice  485.0\n",
       "8   Iraon  416.0\n",
       "6  Gurobi   89.0\n",
       "1     Bob   56.0\n",
       "3   David   39.0\n",
       "2   Cindy    NaN"
      ]
     },
     "execution_count": 20,
     "metadata": {},
     "output_type": "execute_result"
    }
   ],
   "source": [
    "data.sort_values(by='成绩', ascending=False)"
   ]
  },
  {
   "cell_type": "markdown",
   "id": "446517b5",
   "metadata": {},
   "source": [
    "### 2.5 数据缺失值处理"
   ]
  },
  {
   "cell_type": "markdown",
   "id": "c3e969ad",
   "metadata": {},
   "source": [
    "判断数据数据是否存在缺失值"
   ]
  },
  {
   "cell_type": "code",
   "execution_count": 21,
   "id": "f483841f",
   "metadata": {},
   "outputs": [
    {
     "data": {
      "text/html": [
       "<div>\n",
       "<style scoped>\n",
       "    .dataframe tbody tr th:only-of-type {\n",
       "        vertical-align: middle;\n",
       "    }\n",
       "\n",
       "    .dataframe tbody tr th {\n",
       "        vertical-align: top;\n",
       "    }\n",
       "\n",
       "    .dataframe thead th {\n",
       "        text-align: right;\n",
       "    }\n",
       "</style>\n",
       "<table border=\"1\" class=\"dataframe\">\n",
       "  <thead>\n",
       "    <tr style=\"text-align: right;\">\n",
       "      <th></th>\n",
       "      <th>姓名</th>\n",
       "      <th>成绩</th>\n",
       "    </tr>\n",
       "  </thead>\n",
       "  <tbody>\n",
       "    <tr>\n",
       "      <th>0</th>\n",
       "      <td>False</td>\n",
       "      <td>False</td>\n",
       "    </tr>\n",
       "    <tr>\n",
       "      <th>1</th>\n",
       "      <td>False</td>\n",
       "      <td>False</td>\n",
       "    </tr>\n",
       "    <tr>\n",
       "      <th>2</th>\n",
       "      <td>False</td>\n",
       "      <td>True</td>\n",
       "    </tr>\n",
       "    <tr>\n",
       "      <th>3</th>\n",
       "      <td>False</td>\n",
       "      <td>False</td>\n",
       "    </tr>\n",
       "    <tr>\n",
       "      <th>4</th>\n",
       "      <td>False</td>\n",
       "      <td>False</td>\n",
       "    </tr>\n",
       "    <tr>\n",
       "      <th>5</th>\n",
       "      <td>False</td>\n",
       "      <td>False</td>\n",
       "    </tr>\n",
       "    <tr>\n",
       "      <th>6</th>\n",
       "      <td>False</td>\n",
       "      <td>False</td>\n",
       "    </tr>\n",
       "    <tr>\n",
       "      <th>7</th>\n",
       "      <td>False</td>\n",
       "      <td>False</td>\n",
       "    </tr>\n",
       "    <tr>\n",
       "      <th>8</th>\n",
       "      <td>False</td>\n",
       "      <td>False</td>\n",
       "    </tr>\n",
       "  </tbody>\n",
       "</table>\n",
       "</div>"
      ],
      "text/plain": [
       "      姓名     成绩\n",
       "0  False  False\n",
       "1  False  False\n",
       "2  False   True\n",
       "3  False  False\n",
       "4  False  False\n",
       "5  False  False\n",
       "6  False  False\n",
       "7  False  False\n",
       "8  False  False"
      ]
     },
     "execution_count": 21,
     "metadata": {},
     "output_type": "execute_result"
    }
   ],
   "source": [
    "data.isnull()"
   ]
  },
  {
   "cell_type": "markdown",
   "id": "ebae4ccb",
   "metadata": {},
   "source": [
    "使用指定值填充缺失值："
   ]
  },
  {
   "cell_type": "code",
   "execution_count": 23,
   "id": "0783ce71",
   "metadata": {},
   "outputs": [
    {
     "data": {
      "text/html": [
       "<div>\n",
       "<style scoped>\n",
       "    .dataframe tbody tr th:only-of-type {\n",
       "        vertical-align: middle;\n",
       "    }\n",
       "\n",
       "    .dataframe tbody tr th {\n",
       "        vertical-align: top;\n",
       "    }\n",
       "\n",
       "    .dataframe thead th {\n",
       "        text-align: right;\n",
       "    }\n",
       "</style>\n",
       "<table border=\"1\" class=\"dataframe\">\n",
       "  <thead>\n",
       "    <tr style=\"text-align: right;\">\n",
       "      <th></th>\n",
       "      <th>姓名</th>\n",
       "      <th>成绩</th>\n",
       "    </tr>\n",
       "  </thead>\n",
       "  <tbody>\n",
       "    <tr>\n",
       "      <th>0</th>\n",
       "      <td>Alice</td>\n",
       "      <td>485.0</td>\n",
       "    </tr>\n",
       "    <tr>\n",
       "      <th>1</th>\n",
       "      <td>Bob</td>\n",
       "      <td>56.0</td>\n",
       "    </tr>\n",
       "    <tr>\n",
       "      <th>2</th>\n",
       "      <td>Cindy</td>\n",
       "      <td>0.0</td>\n",
       "    </tr>\n",
       "    <tr>\n",
       "      <th>3</th>\n",
       "      <td>David</td>\n",
       "      <td>39.0</td>\n",
       "    </tr>\n",
       "    <tr>\n",
       "      <th>4</th>\n",
       "      <td>Ele</td>\n",
       "      <td>569.0</td>\n",
       "    </tr>\n",
       "    <tr>\n",
       "      <th>5</th>\n",
       "      <td>Frank</td>\n",
       "      <td>526.0</td>\n",
       "    </tr>\n",
       "    <tr>\n",
       "      <th>6</th>\n",
       "      <td>Gurobi</td>\n",
       "      <td>89.0</td>\n",
       "    </tr>\n",
       "    <tr>\n",
       "      <th>7</th>\n",
       "      <td>Haha</td>\n",
       "      <td>789.0</td>\n",
       "    </tr>\n",
       "    <tr>\n",
       "      <th>8</th>\n",
       "      <td>Iraon</td>\n",
       "      <td>416.0</td>\n",
       "    </tr>\n",
       "  </tbody>\n",
       "</table>\n",
       "</div>"
      ],
      "text/plain": [
       "       姓名     成绩\n",
       "0   Alice  485.0\n",
       "1     Bob   56.0\n",
       "2   Cindy    0.0\n",
       "3   David   39.0\n",
       "4     Ele  569.0\n",
       "5   Frank  526.0\n",
       "6  Gurobi   89.0\n",
       "7    Haha  789.0\n",
       "8   Iraon  416.0"
      ]
     },
     "execution_count": 23,
     "metadata": {},
     "output_type": "execute_result"
    }
   ],
   "source": [
    "data.fillna(0)"
   ]
  },
  {
   "cell_type": "markdown",
   "id": "42d7e746",
   "metadata": {},
   "source": [
    "### 2.6 更通用和灵活的操作：数据索引"
   ]
  },
  {
   "cell_type": "markdown",
   "id": "6940b255",
   "metadata": {},
   "source": [
    "获取数据（表格）的元素"
   ]
  },
  {
   "cell_type": "code",
   "execution_count": 34,
   "id": "f821e1c7",
   "metadata": {},
   "outputs": [
    {
     "ename": "AttributeError",
     "evalue": "'numpy.ndarray' object has no attribute 'values'",
     "output_type": "error",
     "traceback": [
      "\u001b[1;31m---------------------------------------------------------------------------\u001b[0m",
      "\u001b[1;31mAttributeError\u001b[0m                            Traceback (most recent call last)",
      "\u001b[1;32m~\\AppData\\Local\\Temp\\ipykernel_3220\\2985631637.py\u001b[0m in \u001b[0;36m<module>\u001b[1;34m\u001b[0m\n\u001b[0;32m      8\u001b[0m \u001b[1;33m\u001b[0m\u001b[0m\n\u001b[0;32m      9\u001b[0m \u001b[1;31m#获取表格中某个元素\u001b[0m\u001b[1;33m\u001b[0m\u001b[1;33m\u001b[0m\u001b[0m\n\u001b[1;32m---> 10\u001b[1;33m \u001b[0mValues\u001b[0m\u001b[1;33m.\u001b[0m\u001b[0mvalues\u001b[0m\u001b[1;33m[\u001b[0m\u001b[1;36m3\u001b[0m\u001b[1;33m]\u001b[0m\u001b[1;33m[\u001b[0m\u001b[1;36m1\u001b[0m\u001b[1;33m]\u001b[0m\u001b[1;33m=\u001b[0m\u001b[1;36m61\u001b[0m\u001b[1;33m\u001b[0m\u001b[1;33m\u001b[0m\u001b[0m\n\u001b[0m\u001b[0;32m     11\u001b[0m \u001b[1;33m\u001b[0m\u001b[0m\n\u001b[0;32m     12\u001b[0m \u001b[1;31m#数据分析\u001b[0m\u001b[1;33m\u001b[0m\u001b[1;33m\u001b[0m\u001b[0m\n",
      "\u001b[1;31mAttributeError\u001b[0m: 'numpy.ndarray' object has no attribute 'values'"
     ]
    }
   ],
   "source": [
    "import pandas as pd\n",
    "\n",
    "#读取数据来源\n",
    "data=pd.read_excel(\"data/data.xlsx\")\n",
    "\n",
    "#获取整个表格的内容\n",
    "Values=data.values\n",
    "\n",
    "#获取表格中某个元素\n",
    "Values.values[3][1]=61\n",
    "\n",
    "#数据分析\n",
    "#.....\n",
    "\n"
   ]
  },
  {
   "cell_type": "markdown",
   "id": "b75bb166",
   "metadata": {},
   "source": [
    "索引某行某列的元素"
   ]
  },
  {
   "cell_type": "code",
   "execution_count": 27,
   "id": "f96cf34f",
   "metadata": {},
   "outputs": [
    {
     "data": {
      "text/plain": [
       "526.0"
      ]
     },
     "execution_count": 27,
     "metadata": {},
     "output_type": "execute_result"
    }
   ],
   "source": [
    "values[5][1]"
   ]
  },
  {
   "cell_type": "markdown",
   "id": "00ee98f1",
   "metadata": {},
   "source": [
    "### 2.7 判断某元素是否在数据中"
   ]
  },
  {
   "cell_type": "code",
   "execution_count": 36,
   "id": "57d4320c",
   "metadata": {},
   "outputs": [],
   "source": [
    "a=51516\n",
    "if a in data.values:\n",
    "    print(\"a在data中\")"
   ]
  },
  {
   "cell_type": "markdown",
   "id": "37e274db",
   "metadata": {},
   "source": [
    "### 2.7 实例演示\n",
    "  用Pandas进行数据处理"
   ]
  },
  {
   "cell_type": "markdown",
   "id": "0bf47d5d",
   "metadata": {},
   "source": [
    "题目背景：你收到了一份来自某高校的学生信息Excel表格（文件名：students_info.xlsx），其中包含了学生的姓名、学号、年龄、性别、成绩等信息。由于表格存在一些数据问题，你需要使用Pandas进行数据预处理。<br>\n",
    "<br>\n",
    "具体要求：<br>\n",
    "<br>\n",
    "- 读取Excel表格数据。\n",
    "- 检查数据中是否存在缺失值，对缺失值进行合适的处理。\n",
    "- 对数据进行筛选，只保留成绩大于等于60分的学生信息。\n",
    "- 对筛选后的数据按成绩降序排序。\n",
    "- 将处理后的数据导出为新的Excel表格（文件名：students_info_cleaned.xlsx）。\n"
   ]
  },
  {
   "cell_type": "code",
   "execution_count": 39,
   "id": "2d549fb3",
   "metadata": {},
   "outputs": [],
   "source": [
    "import pandas as pd\n",
    "\n",
    "#读取数据来源\n",
    "data=pd.read_excel(\"data/data.xlsx\")\n",
    "\n",
    "#缺失值处理\n",
    "data=data.fillna(0)  #对缺失成绩信息的同学给0分\n",
    "\n",
    "#筛选成绩大于60分的同学\n",
    "data=data[data['成绩'] > 60]\n",
    "\n",
    "#降序排序\n",
    "data=data.sort_values(by='成绩', ascending=False)\n",
    "\n",
    "#保存\n",
    "data.to_excel('result.xlsx', sheet_name='Sheet1', index=False)"
   ]
  },
  {
   "cell_type": "markdown",
   "id": "61bf453d",
   "metadata": {},
   "source": [
    "### Have a try\n",
    "敏感词文本文件 filtered_words.xlsx，里面的内容为以下内容，当用户输入敏感词语，则用 星号 * 替换，例如当用户输入「北京是个好城市」，则变成「**是个好城市」<br><br>\n",
    "\n",
    ">北京 <br>\n",
    ">程序员<br>\n",
    "公务员<br>\n",
    "领导<br>\n",
    "牛比<br>\n",
    "牛逼<br>\n",
    "你娘<br>\n",
    "你妈<br>\n",
    "love<br>\n",
    "sex<br>\n",
    "jiangge<br>\n",
    "\n",
    "(题目来自git@github.com:BigdogManLuo/show-me-the-code.git)"
   ]
  },
  {
   "cell_type": "code",
   "execution_count": 53,
   "id": "c9fd5f77",
   "metadata": {},
   "outputs": [
    {
     "name": "stdout",
     "output_type": "stream",
     "text": [
      "对话框：你好牛逼\n",
      "你好牛逼\n"
     ]
    }
   ],
   "source": [
    "import pandas as pd\n",
    "\n",
    "#读取敏感词文件\n",
    "Word=pd.read_excel(\"敏感词.xlsx\")\n",
    "\n",
    "#读取文件的内容\n",
    "word=Word.values\n",
    "\n",
    "#读取用户输入\n",
    "inputWord=input(\"对话框：\")\n",
    "\n",
    "#对比是否有敏感词汇\n",
    "if inputWord in word:\n",
    "    print(\"***\")\n",
    "else:\n",
    "    print(inputWord)"
   ]
  },
  {
   "cell_type": "code",
   "execution_count": null,
   "id": "424571bc",
   "metadata": {},
   "outputs": [],
   "source": []
  }
 ],
 "metadata": {
  "kernelspec": {
   "display_name": "Python 3 (ipykernel)",
   "language": "python",
   "name": "python3"
  },
  "language_info": {
   "codemirror_mode": {
    "name": "ipython",
    "version": 3
   },
   "file_extension": ".py",
   "mimetype": "text/x-python",
   "name": "python",
   "nbconvert_exporter": "python",
   "pygments_lexer": "ipython3",
   "version": "3.9.13"
  }
 },
 "nbformat": 4,
 "nbformat_minor": 5
}
