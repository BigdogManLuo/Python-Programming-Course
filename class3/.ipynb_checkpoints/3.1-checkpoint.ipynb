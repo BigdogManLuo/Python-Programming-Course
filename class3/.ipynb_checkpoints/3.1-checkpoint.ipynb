{
 "cells": [
  {
   "cell_type": "markdown",
   "id": "5273d662",
   "metadata": {},
   "source": [
    "**题目：BMI指数计算器**\n",
    "\n",
    "**任务要求：**\n",
    "\n",
    "编写一个程序，要求用户输入他们的身高（单位：米）和体重（单位：千克），然后计算并输出他们的BMI指数。\n",
    "\n",
    "**提示：**\n",
    "\n",
    "BMI指数计算公式：BMI = 体重（千克）/ 身高的平方（米）\n",
    "\n",
    "输出结果保留一位小数。\n",
    "\n",
    "根据BMI指数，可以大致判断一个人是否健康。例如：\n",
    "\n",
    "BMI指数小于18.5：过轻\n",
    "BMI指数在18.5和25之间：正常\n",
    "BMI指数在25和30之间：过重\n",
    "BMI指数在30及以上：肥胖"
   ]
  },
  {
   "cell_type": "code",
   "execution_count": 7,
   "id": "6ebcaacd",
   "metadata": {},
   "outputs": [
    {
     "ename": "SyntaxError",
     "evalue": "invalid syntax (2184678470.py, line 14)",
     "output_type": "error",
     "traceback": [
      "\u001b[1;36m  File \u001b[1;32m\"C:\\Users\\85204\\AppData\\Local\\Temp\\ipykernel_8956\\2184678470.py\"\u001b[1;36m, line \u001b[1;32m14\u001b[0m\n\u001b[1;33m    if BMI<18.5\u001b[0m\n\u001b[1;37m               ^\u001b[0m\n\u001b[1;31mSyntaxError\u001b[0m\u001b[1;31m:\u001b[0m invalid syntax\n"
     ]
    }
   ],
   "source": [
    "#用户的输入\n",
    "a=input(\"请输入身高（米）：\")\n",
    "b=input(\"请输入体重（千克）\")\n",
    "\n",
    "#数据类型转换\n",
    "a=float(a)\n",
    "b=float(b)\n",
    "\n",
    "#计算BMI指数\n",
    "BMI=b/(a**2)\n",
    "print(\"BMI指数为：%s\" %BMI)\n",
    "\n",
    "#判断健康状态\n",
    "if BMI<18.5：\n",
    "    print(\"过轻\")\n",
    "elif BMI<25:\n",
    "    print(\"正常\")\n",
    "elif BMI<30:\n",
    "    print(\"过重\")\n",
    "elif BMI>=30:\n",
    "    print(\"肥胖\")\n"
   ]
  },
  {
   "cell_type": "markdown",
   "id": "7cc3282d",
   "metadata": {},
   "source": [
    "如何判断“过轻”、“正常”、“肥胖”？"
   ]
  },
  {
   "cell_type": "code",
   "execution_count": null,
   "id": "ed386c95",
   "metadata": {},
   "outputs": [],
   "source": []
  },
  {
   "cell_type": "markdown",
   "id": "109deb26",
   "metadata": {},
   "source": [
    "## 条件判断语句"
   ]
  },
  {
   "cell_type": "markdown",
   "id": "593c2d00",
   "metadata": {},
   "source": [
    "程序遇到某些情况，可能需要分支执行：账号登录、网页跳转、错误处理\n",
    "### if语句\n",
    "<img src=\"./img/if.jpg\" width=300 height=200>"
   ]
  },
  {
   "cell_type": "code",
   "execution_count": null,
   "id": "54a28f3a",
   "metadata": {},
   "outputs": [],
   "source": [
    "#语法格式\n",
    "'''\n",
    "if 条件判别式：\n",
    "    执行语句\n",
    "'''"
   ]
  },
  {
   "cell_type": "markdown",
   "id": "549c14da",
   "metadata": {},
   "source": [
    "### if-else语句\n",
    "<img src=\"./img/if-else.jpg\" width=300 height=200>"
   ]
  },
  {
   "cell_type": "code",
   "execution_count": null,
   "id": "80c38d8c",
   "metadata": {},
   "outputs": [],
   "source": [
    "#语法格式\n",
    "'''\n",
    "if   条件判别式：\n",
    "    执行语句\n",
    "elif 条件判别式：\n",
    "    执行语句\n",
    "'''"
   ]
  },
  {
   "cell_type": "markdown",
   "id": "608561a8",
   "metadata": {},
   "source": [
    "### 条件判别式"
   ]
  },
  {
   "cell_type": "markdown",
   "id": "a2278d83",
   "metadata": {},
   "source": [
    "用于判断两个值或者变量之间是否存在关系运算符表示的给定关系，如果关系成立，则判别结果为True，否则为False\n",
    "\n",
    "|运算符|含义|示例|值|\n",
    "|---|---|---|---|\n",
    "|==|等于|2+2==4|True|\n",
    "|!=|不等于|3!=4|True|\n",
    "|<|小于|3<4|True|\n",
    "|>|大于|3>4|False|\n",
    "|>=|大于等于|5>=5|True|\n",
    "|<=|小于等于|4<=5|True|\n",
    "\n",
    "逻辑运算符\n",
    "\n",
    "|符号|含义|\n",
    "|--|--|\n",
    "|and|且|\n",
    "|or|或|\n",
    "|not|否|\n",
    "\n"
   ]
  },
  {
   "cell_type": "code",
   "execution_count": 6,
   "id": "db6c5f0a",
   "metadata": {},
   "outputs": [
    {
     "data": {
      "text/plain": [
       "False"
      ]
     },
     "execution_count": 6,
     "metadata": {},
     "output_type": "execute_result"
    }
   ],
   "source": [
    "#测试关系运算符\n",
    "2==4"
   ]
  },
  {
   "cell_type": "markdown",
   "id": "e3ac3556",
   "metadata": {},
   "source": [
    "### 例子： 用户账号登录\n",
    "请设计一个简单的程序，用于判断用户在登录界面输入的账号密码是否匹配\n",
    "例如：\n",
    ">请输入账号：xxxx1234 <br>\n",
    "请输入密码：1234567890 <br>\n",
    "输出：登录成功！<br>\n",
    "\n",
    ">请输入账号：xxxx1234 <br>\n",
    "请输入密码：12345678 <br>\n",
    "输出：登录失败！ <br>"
   ]
  },
  {
   "cell_type": "code",
   "execution_count": 10,
   "id": "49bb180b",
   "metadata": {},
   "outputs": [
    {
     "name": "stdout",
     "output_type": "stream",
     "text": [
      "请输入您的账号：21312hud\n",
      "请输入您的密码：21uhnu1w\n",
      "登陆失败！\n"
     ]
    }
   ],
   "source": [
    "#定义账号和密码\n",
    "account=\"xxxx1234\"\n",
    "password=\"1234567890\"\n",
    "\n",
    "#用户输入\n",
    "a=input(\"请输入您的账号：\")\n",
    "p=input(\"请输入您的密码：\")\n",
    "\n",
    "#条件判断\n",
    "if account==a and password==p:\n",
    "    print(\"登录成功\")\n",
    "else:\n",
    "    print(\"登陆失败！\")"
   ]
  },
  {
   "cell_type": "code",
   "execution_count": 14,
   "id": "bb098866",
   "metadata": {},
   "outputs": [
    {
     "name": "stdout",
     "output_type": "stream",
     "text": [
      "请输入您的账号：xxxx12345\n",
      "请输入您的密码：1234567890\n",
      "账号错误！\n"
     ]
    }
   ],
   "source": [
    "#定义账号和密码\n",
    "account=\"xxxx1234\"\n",
    "password=\"1234567890\"\n",
    "\n",
    "#用户输入\n",
    "a=input(\"请输入您的账号：\")\n",
    "p=input(\"请输入您的密码：\")\n",
    "\n",
    "#首先判断账号是否正确？\n",
    "if account==a:\n",
    "    if password==p:\n",
    "        print(\"登录成功！\")\n",
    "    else:\n",
    "        print(\"密码错误！\")\n",
    "else:\n",
    "    print(\"账号错误！\")"
   ]
  },
  {
   "cell_type": "markdown",
   "id": "cd18644e",
   "metadata": {},
   "source": [
    "### 嵌套if-else结构"
   ]
  },
  {
   "cell_type": "markdown",
   "id": "26904de1",
   "metadata": {},
   "source": [
    "<img src=\"./img/if-else2.jpg\" width=400 height=300>"
   ]
  },
  {
   "cell_type": "markdown",
   "id": "21f1bb53",
   "metadata": {},
   "source": [
    "### 课堂练习\n",
    "**题目描述：** 一个水果商店正在促销，买5个苹果送2个橙子，买10个苹果送5个橙子。请编写一个程序，输入购买的苹果数量，计算出赠送的橙子数量，并输出赠送的橙子数量和总共购买的水果数量。\n",
    "\n",
    "**要求：**\n",
    "使用if-else嵌套语句完成。<br>\n",
    "输入的苹果数量必须是正整数。<br>\n",
    "输出的橙子数量和总共购买的水果数量必须是整数。<br>\n",
    "\n",
    "**示例输出：**\n",
    "\n",
    "输入购买的苹果数量：7 <br>\n",
    "输出：您将获得2个橙子，总共购买了9个水果。<br>\n"
   ]
  },
  {
   "cell_type": "code",
   "execution_count": 19,
   "id": "2e0b7ca6",
   "metadata": {},
   "outputs": [
    {
     "name": "stdout",
     "output_type": "stream",
     "text": [
      "请输入苹果的数量:-1\n",
      "输入错误！\n"
     ]
    }
   ],
   "source": [
    "#用户输入\n",
    "apple=input(\"请输入苹果的数量:\")\n",
    "\n",
    "#类型转换\n",
    "apple=int(apple)\n",
    "\n",
    "#判断是否是正整数\n",
    "if apple>0:\n",
    "\n",
    "    #条件判断\n",
    "    '''\n",
    "    if apple<5:\n",
    "        orange=0\n",
    "    elif apple<10:\n",
    "        orange=2\n",
    "    else:\n",
    "        orange=5\n",
    "    '''\n",
    "\n",
    "    if apple<5:\n",
    "        orange=0\n",
    "    if apple>=5 and apple<10:\n",
    "        orange=2\n",
    "    if apple>=10: \n",
    "        orange=5\n",
    "\n",
    "    #输出\n",
    "    print(\"橙子的数量为%s\"%orange)\n",
    "    print(\"水果总数为%s\"%(orange+apple))\n",
    "    \n",
    "else:\n",
    "    print(\"输入错误！\")"
   ]
  },
  {
   "cell_type": "code",
   "execution_count": null,
   "id": "a292db65",
   "metadata": {},
   "outputs": [],
   "source": []
  }
 ],
 "metadata": {
  "kernelspec": {
   "display_name": "Python 3 (ipykernel)",
   "language": "python",
   "name": "python3"
  },
  "language_info": {
   "codemirror_mode": {
    "name": "ipython",
    "version": 3
   },
   "file_extension": ".py",
   "mimetype": "text/x-python",
   "name": "python",
   "nbconvert_exporter": "python",
   "pygments_lexer": "ipython3",
   "version": "3.9.13"
  }
 },
 "nbformat": 4,
 "nbformat_minor": 5
}
